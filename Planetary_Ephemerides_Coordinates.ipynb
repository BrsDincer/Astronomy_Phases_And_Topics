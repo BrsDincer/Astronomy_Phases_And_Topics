{
  "nbformat": 4,
  "nbformat_minor": 0,
  "metadata": {
    "colab": {
      "provenance": [],
      "toc_visible": true
    },
    "kernelspec": {
      "name": "python3",
      "display_name": "Python 3"
    },
    "language_info": {
      "name": "python"
    }
  },
  "cells": [
    {
      "cell_type": "markdown",
      "source": [
        "# Planetary Ephemerides & Coordinates\n",
        "\n",
        "* The trajectory followed by an astronomical object is also called ephemeris. In former times, astronomers observed planetary positions on a daily basis and noted the positions in tables.\n",
        "* Planetary ephemerides (singular: ephemeris) are tables or datasets that provide the positions of astronomical objects in the sky at given times. These objects typically include planets, moons, asteroids, comets, and spacecraft. The term \"ephemeris\" comes from Latin and originally from the Greek word \"ephémeros,\" meaning \"diary\" or \"calendar.\"\n",
        "* Planetary ephemerides are specific to the positions of planets. They give detailed information about the location of planets in the sky at various times. This can include their coordinates in various celestial coordinate systems, such as right ascension and declination, or their distance from the Earth or the Sun.\n",
        "* While planetary ephemerides refer specifically to planets, the term \"ephemeris\" can be used more broadly for any celestial body. An ephemeris can provide data on stars, galaxies, artificial satellites, and other astronomical objects.\n",
        "*  Ephemerides are calculated using mathematical models of celestial mechanics, incorporating the laws of gravity and motion. These calculations take into account various factors such as gravitational interactions between bodies, perturbations, and relativistic effects.\n",
        "* Various institutions, like NASA's Jet Propulsion Laboratory (JPL) and the International Astronomical Union (IAU), publish ephemerides.\n",
        "* To compute such secular variations over many orbital periods with high accuracy, analytical and numerical calculations using perturbation techniques are applied. An example is the VSOP (**Variations Séculaires des Orbites Planétaires**). The solution known as VSOP87 represents the time-dependent heliocentric coordinates X,Y,Z of the planets in the solar system (including Pluto) by series expansions, which are available as source code in several programming languages.\n",
        "*VSOP87 Model:\n",
        "> $P = \\sum A \\cdot \\cos(B + C \\cdot t)$\n",
        "\n",
        "where:\n",
        "\n",
        "$P$: the planetary position in one of the heliocentric coordinates\n",
        "\n",
        "$A$, $B$, $C$: coefficients specific to each planet and coordinate\n",
        "\n",
        "$t$: time in Julian centuries from the J2000.0 epoch"
      ],
      "metadata": {
        "id": "f2BdVud9GAj_"
      }
    },
    {
      "cell_type": "code",
      "source": [
        "%%capture\n",
        "!pip install skyfield"
      ],
      "metadata": {
        "id": "O8rmENr2KE6K"
      },
      "execution_count": 1,
      "outputs": []
    },
    {
      "cell_type": "code",
      "source": [
        "from skyfield.api import load,Topos,Star\n",
        "from skyfield.data import hipparcos\n",
        "from skyfield.positionlib import ITRF_to_GCRS"
      ],
      "metadata": {
        "id": "7TOlVteIKM5g"
      },
      "execution_count": 57,
      "outputs": []
    },
    {
      "cell_type": "code",
      "source": [
        "import math,astropy\n",
        "from datetime import datetime,timedelta\n",
        "import matplotlib.pyplot as plt\n",
        "from matplotlib.patches import Circle\n",
        "import numpy as np\n",
        "plt.style.use(\"dark_background\")\n",
        "%matplotlib inline"
      ],
      "metadata": {
        "id": "bYuVLC1LI3mc"
      },
      "execution_count": 53,
      "outputs": []
    },
    {
      "cell_type": "code",
      "execution_count": 4,
      "metadata": {
        "id": "begZQ9NiF8tG"
      },
      "outputs": [],
      "source": [
        "def ConvertJulianDate(day:int,month:int,year:int,universelTime:int or float)->int or float:\n",
        "  if (month <= 2):\n",
        "    yearBase = year-1\n",
        "    monthBase = month+12\n",
        "  else:\n",
        "    yearBase = year\n",
        "    monthBase = month\n",
        "  if (year < 1582):\n",
        "    base = -2\n",
        "  elif (year == 1582):\n",
        "    if (month < 10):\n",
        "      base = -2\n",
        "    elif (month == 10):\n",
        "      if (day <= 4):\n",
        "        base = -2\n",
        "      else:\n",
        "        base = math.floor(year/400)-math.floor(year/100)\n",
        "    else:\n",
        "      base = math.floor(year/400)-math.floor(year/100)\n",
        "  else:\n",
        "    base = math.floor(year/400)-math.floor(year/100)\n",
        "  return math.floor(365.25*year)+math.floor(30.6001*(month+1))+base+1720996.5+day+universelTime/24\n",
        ""
      ]
    },
    {
      "cell_type": "code",
      "source": [
        "now = datetime.utcnow()\n",
        "print(f\"UTC - Now: {now}\")"
      ],
      "metadata": {
        "colab": {
          "base_uri": "https://localhost:8080/"
        },
        "id": "g_r9ToLnJWJq",
        "outputId": "9dfa35d6-dd55-40de-b752-26f8fefb5b5f"
      },
      "execution_count": 5,
      "outputs": [
        {
          "output_type": "stream",
          "name": "stdout",
          "text": [
            "UTC - Now: 2023-12-17 18:55:24.825877\n"
          ]
        }
      ]
    },
    {
      "cell_type": "code",
      "source": [
        "julianDate = ConvertJulianDate(now.day,now.month,now.year,now.hour+now.minute/60+now.second/3600)\n",
        "print(f\"Julian Date: {julianDate}\")"
      ],
      "metadata": {
        "colab": {
          "base_uri": "https://localhost:8080/"
        },
        "id": "I6K_GFGbJd5A",
        "outputId": "9d8a8c23-e65a-4aea-c650-58b37fa9a45b"
      },
      "execution_count": 6,
      "outputs": [
        {
          "output_type": "stream",
          "name": "stdout",
          "text": [
            "Julian Date: 2460296.288472222\n"
          ]
        }
      ]
    },
    {
      "cell_type": "code",
      "source": [
        "# Load ephemeris data (DE421 includes VSOP87 model data)\n",
        "planets = load(\"de421.bsp\")"
      ],
      "metadata": {
        "colab": {
          "base_uri": "https://localhost:8080/"
        },
        "id": "DLtM6tEzJvnM",
        "outputId": "89abb9e6-97d4-4f2e-a163-4b5134058b7f"
      },
      "execution_count": 7,
      "outputs": [
        {
          "output_type": "stream",
          "name": "stderr",
          "text": [
            "[#################################] 100% de421.bsp\n"
          ]
        }
      ]
    },
    {
      "cell_type": "code",
      "source": [
        "planets.__dict__"
      ],
      "metadata": {
        "colab": {
          "base_uri": "https://localhost:8080/"
        },
        "id": "dGJ2Uc-2KWjH",
        "outputId": "ad084f09-52a6-4100-8bf4-ffcb251bafd3"
      },
      "execution_count": 8,
      "outputs": [
        {
          "output_type": "execute_result",
          "data": {
            "text/plain": [
              "{'path': 'de421.bsp',\n",
              " 'filename': 'de421.bsp',\n",
              " 'spk': <jplephem.spk.SPK at 0x7a708af6b6d0>,\n",
              " 'segments': [<ChebyshevPosition 'de421.bsp' segment 0 SOLAR SYSTEM BARYCENTER -> 1 MERCURY BARYCENTER>,\n",
              "  <ChebyshevPosition 'de421.bsp' segment 0 SOLAR SYSTEM BARYCENTER -> 2 VENUS BARYCENTER>,\n",
              "  <ChebyshevPosition 'de421.bsp' segment 0 SOLAR SYSTEM BARYCENTER -> 3 EARTH BARYCENTER>,\n",
              "  <ChebyshevPosition 'de421.bsp' segment 0 SOLAR SYSTEM BARYCENTER -> 4 MARS BARYCENTER>,\n",
              "  <ChebyshevPosition 'de421.bsp' segment 0 SOLAR SYSTEM BARYCENTER -> 5 JUPITER BARYCENTER>,\n",
              "  <ChebyshevPosition 'de421.bsp' segment 0 SOLAR SYSTEM BARYCENTER -> 6 SATURN BARYCENTER>,\n",
              "  <ChebyshevPosition 'de421.bsp' segment 0 SOLAR SYSTEM BARYCENTER -> 7 URANUS BARYCENTER>,\n",
              "  <ChebyshevPosition 'de421.bsp' segment 0 SOLAR SYSTEM BARYCENTER -> 8 NEPTUNE BARYCENTER>,\n",
              "  <ChebyshevPosition 'de421.bsp' segment 0 SOLAR SYSTEM BARYCENTER -> 9 PLUTO BARYCENTER>,\n",
              "  <ChebyshevPosition 'de421.bsp' segment 0 SOLAR SYSTEM BARYCENTER -> 10 SUN>,\n",
              "  <ChebyshevPosition 'de421.bsp' segment 3 EARTH BARYCENTER -> 301 MOON>,\n",
              "  <ChebyshevPosition 'de421.bsp' segment 3 EARTH BARYCENTER -> 399 EARTH>,\n",
              "  <ChebyshevPosition 'de421.bsp' segment 1 MERCURY BARYCENTER -> 199 MERCURY>,\n",
              "  <ChebyshevPosition 'de421.bsp' segment 2 VENUS BARYCENTER -> 299 VENUS>,\n",
              "  <ChebyshevPosition 'de421.bsp' segment 4 MARS BARYCENTER -> 499 MARS>],\n",
              " 'codes': {0, 1, 2, 3, 4, 5, 6, 7, 8, 9, 10, 199, 299, 301, 399, 499}}"
            ]
          },
          "metadata": {},
          "execution_count": 8
        }
      ]
    },
    {
      "cell_type": "code",
      "source": [
        "earthData = planets[\"earth\"]\n",
        "print(f\"Earth Data:\\n{earthData}\")"
      ],
      "metadata": {
        "colab": {
          "base_uri": "https://localhost:8080/"
        },
        "id": "rqkkREd3KX7A",
        "outputId": "1becd371-d005-4177-a79f-5d659d0da763"
      },
      "execution_count": 9,
      "outputs": [
        {
          "output_type": "stream",
          "name": "stdout",
          "text": [
            "Earth Data:\n",
            "Sum of 2 vectors:\n",
            " 'de421.bsp' segment 0 SOLAR SYSTEM BARYCENTER -> 3 EARTH BARYCENTER\n",
            " 'de421.bsp' segment 3 EARTH BARYCENTER -> 399 EARTH\n"
          ]
        }
      ]
    },
    {
      "cell_type": "code",
      "source": [
        "timeScale = load.timescale()\n",
        "print(f\"Time Scale - J2000:\\n{timeScale.J2000}\")"
      ],
      "metadata": {
        "colab": {
          "base_uri": "https://localhost:8080/"
        },
        "id": "dm84-WV_K38c",
        "outputId": "d9468ee9-c14c-4b09-be67-36e46b696c32"
      },
      "execution_count": 10,
      "outputs": [
        {
          "output_type": "stream",
          "name": "stdout",
          "text": [
            "Time Scale - J2000:\n",
            "<Time tt=2451545.0>\n"
          ]
        }
      ]
    },
    {
      "cell_type": "code",
      "source": [
        "UTCNow = timeScale.utc(now.year,now.month,now.day)\n",
        "print(f\"Now - UTC - Additional Method: {UTCNow}\")"
      ],
      "metadata": {
        "colab": {
          "base_uri": "https://localhost:8080/"
        },
        "id": "swLQDYRcLLrc",
        "outputId": "ccf61dc4-1d0c-4b68-8cdb-2a53e24fadf9"
      },
      "execution_count": 11,
      "outputs": [
        {
          "output_type": "stream",
          "name": "stdout",
          "text": [
            "Now - UTC - Additional Method: <Time tt=2460295.500800741>\n"
          ]
        }
      ]
    },
    {
      "cell_type": "code",
      "source": [
        "observedPlanet = planets[\"mars\"]"
      ],
      "metadata": {
        "id": "BTMUUvS6L1Tm"
      },
      "execution_count": 12,
      "outputs": []
    },
    {
      "cell_type": "code",
      "source": [
        "earthAstrometric = earthData.at(UTCNow)\n",
        "print(f\"Astrometric Values for Earth:\\n{earthAstrometric}\")"
      ],
      "metadata": {
        "colab": {
          "base_uri": "https://localhost:8080/"
        },
        "id": "BIrEcxQnLjOJ",
        "outputId": "4a3ff089-2437-445d-dec6-21a27a06d9e8"
      },
      "execution_count": 13,
      "outputs": [
        {
          "output_type": "stream",
          "name": "stdout",
          "text": [
            "Astrometric Values for Earth:\n",
            "<Barycentric BCRS position and velocity at date t center=0 target=399>\n"
          ]
        }
      ]
    },
    {
      "cell_type": "code",
      "source": [
        "positionObservedPlanet = earthData.at(UTCNow).observe(observedPlanet)\n",
        "print(f\"Right Ascension-Mars: {positionObservedPlanet.radec()[0]}\")\n",
        "print(f\"Declination-Mars: {positionObservedPlanet.radec()[1]}\")\n",
        "print(f\"Distance-Mars: {positionObservedPlanet.radec()[2]}\")"
      ],
      "metadata": {
        "colab": {
          "base_uri": "https://localhost:8080/"
        },
        "id": "nHinMQ-6L0pk",
        "outputId": "4818411c-f7d8-4c3a-d114-5fd612abc199"
      },
      "execution_count": 14,
      "outputs": [
        {
          "output_type": "stream",
          "name": "stdout",
          "text": [
            "Right Ascension-Mars: 16h 58m 46.17s\n",
            "Declination-Mars: -23deg 05' 42.9\"\n",
            "Distance-Mars: 2.46633 au\n"
          ]
        }
      ]
    },
    {
      "cell_type": "code",
      "source": [
        "def GetPlanetPosition(planetName:str,date:int or float)->tuple:\n",
        "  planet = planets[planetName]\n",
        "  timeUTC = timeScale.utc(date.year,date.month,date.day)\n",
        "  astrometric = earthData.at(timeUTC).observe(planet)\n",
        "  ra,dec,distance = astrometric.radec()\n",
        "  return ra,dec,distance"
      ],
      "metadata": {
        "id": "FZAqOCOGKlfA"
      },
      "execution_count": 15,
      "outputs": []
    },
    {
      "cell_type": "code",
      "source": [
        "raVENUS,decVENUS,distanceVENUS = GetPlanetPosition(\"VENUS\",datetime(2023,12,15))\n",
        "print(f\"Right Ascension-VENUS: {raVENUS}\")\n",
        "print(f\"Declination-VENUS: {decVENUS}\")\n",
        "print(f\"Distance-VENUS: {distanceVENUS}\")"
      ],
      "metadata": {
        "colab": {
          "base_uri": "https://localhost:8080/"
        },
        "id": "Th_yaTrhMdzg",
        "outputId": "ac3130f0-bd20-4ee9-e379-e50e388e4513"
      },
      "execution_count": 16,
      "outputs": [
        {
          "output_type": "stream",
          "name": "stdout",
          "text": [
            "Right Ascension-VENUS: 14h 40m 13.86s\n",
            "Declination-VENUS: -13deg 13' 10.4\"\n",
            "Distance-VENUS: 1.07117 au\n"
          ]
        }
      ]
    },
    {
      "cell_type": "markdown",
      "source": [
        "* If ($x_1$, $y_1$, $z_1$) and ($x_2$, $y_2$, $z_2$) are the coordinates of two points in 3D space, the distance:\n",
        "> $d = \\sqrt{(x_2 - x_1)^2 + (y_2 - y_1)^2 + (z_2 - z_1)^2}$"
      ],
      "metadata": {
        "id": "F5cFawjNNo-3"
      }
    },
    {
      "cell_type": "code",
      "source": [
        "sunData = planets[\"sun\"]\n",
        "timeNow = UTCNow = timeScale.now()\n",
        "print(f\"Current Time:\\n{timeNow}\")\n",
        "astrometricEarth = sunData.at(timeNow).observe(earthData)\n",
        "positionEarth = astrometricEarth.position\n",
        "print(f\"Position-Earth:\\n{positionEarth}\")\n",
        "print(f\"Position-Distance-Earth:\\n{positionEarth.au}\")"
      ],
      "metadata": {
        "colab": {
          "base_uri": "https://localhost:8080/"
        },
        "id": "P74QdF1cORTv",
        "outputId": "d7793642-d0a0-4088-f83d-959394fe58dd"
      },
      "execution_count": 17,
      "outputs": [
        {
          "output_type": "stream",
          "name": "stdout",
          "text": [
            "Current Time:\n",
            "<Time tt=2460296.2893171157>\n",
            "Position-Earth:\n",
            "[0.08178029 0.89978588 0.39004728] au\n",
            "Position-Distance-Earth:\n",
            "[0.08178029 0.89978588 0.39004728]\n"
          ]
        }
      ]
    },
    {
      "cell_type": "code",
      "source": [
        "def DistanceCalculation(coordsOne:tuple or list,coordsTwo:tuple or list)->int or float:\n",
        "  x1,y1,z1 = coordsOne\n",
        "  x2,y2,z2 = coordsTwo\n",
        "  distance = math.sqrt((x2-x1)**2+(y2-y1)**2+(z2-z1)**2)\n",
        "  return distance"
      ],
      "metadata": {
        "id": "D8CXTJaqMumi"
      },
      "execution_count": 18,
      "outputs": []
    },
    {
      "cell_type": "code",
      "source": [
        "def GetPlanetCoordinates(planetName:str,time:int or float)->tuple or list:\n",
        "  planet = planets[planetName]\n",
        "  astrometric = sunData.at(time).observe(planet)\n",
        "  return astrometric.position.au"
      ],
      "metadata": {
        "id": "BuBrmmIUPNMQ"
      },
      "execution_count": 19,
      "outputs": []
    },
    {
      "cell_type": "code",
      "source": [
        "nowTimeBase = timeScale.now()\n",
        "print(f\"Time-Current:\\n{nowTimeBase}\")\n",
        "earthCoord = GetPlanetCoordinates(\"earth\",nowTimeBase)\n",
        "venusCoord = GetPlanetCoordinates(\"venus\",nowTimeBase)"
      ],
      "metadata": {
        "colab": {
          "base_uri": "https://localhost:8080/"
        },
        "id": "01Hpqo2VPpna",
        "outputId": "5b0a4972-11af-463c-ecd9-feab1dc22c30"
      },
      "execution_count": 20,
      "outputs": [
        {
          "output_type": "stream",
          "name": "stdout",
          "text": [
            "Time-Current:\n",
            "<Time tt=2460296.289317708>\n"
          ]
        }
      ]
    },
    {
      "cell_type": "code",
      "source": [
        "print(f\"Earth Coordinate: {earthCoord}\")\n",
        "print(f\"Venus Coordinate: {venusCoord}\")"
      ],
      "metadata": {
        "colab": {
          "base_uri": "https://localhost:8080/"
        },
        "id": "1UhMGjL8wAOD",
        "outputId": "aa75e38a-b37b-414f-a9ac-e48a238b38b7"
      },
      "execution_count": 21,
      "outputs": [
        {
          "output_type": "stream",
          "name": "stdout",
          "text": [
            "Earth Coordinate: [0.08178028 0.89978588 0.39004728]\n",
            "Venus Coordinate: [-0.6867875   0.17486632  0.12213489]\n"
          ]
        }
      ]
    },
    {
      "cell_type": "code",
      "source": [
        "distanceBetweenVenusEarth = DistanceCalculation(earthCoord,venusCoord)\n",
        "print(f\"Distance From Earth to Venus: {distanceBetweenVenusEarth} AU\")"
      ],
      "metadata": {
        "colab": {
          "base_uri": "https://localhost:8080/"
        },
        "id": "tdgDgHFKvucC",
        "outputId": "a4b13252-492b-49a7-a850-a7cfc20d1e88"
      },
      "execution_count": 22,
      "outputs": [
        {
          "output_type": "stream",
          "name": "stdout",
          "text": [
            "Distance From Earth to Venus: 1.089945804986788 AU\n"
          ]
        }
      ]
    },
    {
      "cell_type": "code",
      "source": [
        "def EarthVenusDistanceReturn(timeRange:list)->list:\n",
        "  distances = []\n",
        "  for date in timeRange:\n",
        "    earthPos = GetPlanetCoordinates(\"earth\",date)\n",
        "    venusPos = GetPlanetCoordinates(\"venus\",date)\n",
        "    distance = DistanceCalculation(earthPos,venusPos)\n",
        "    distances.append(distance)\n",
        "  return distances"
      ],
      "metadata": {
        "id": "wsKws30vxIsH"
      },
      "execution_count": 23,
      "outputs": []
    },
    {
      "cell_type": "code",
      "source": [
        "currentJulian = timeScale.now().tt\n",
        "timeRange = [timeScale.tt_jd(currentJulian+index) for index in range(1000)] # Over 1000 Days\n",
        "distances = EarthVenusDistanceReturn(timeRange)\n",
        "plt.figure(figsize=(11,5))\n",
        "plt.title(\"Distance between Earth and Venus Over 1000 Days\")\n",
        "plt.plot([date.utc_datetime() for date in timeRange],distances,label=\"Time-Distance\")\n",
        "plt.xlabel(\"Date\")\n",
        "plt.ylabel(\"Distance (AU)\")\n",
        "plt.grid(True)\n",
        "plt.legend()\n",
        "plt.tight_layout()\n",
        "plt.show()"
      ],
      "metadata": {
        "colab": {
          "base_uri": "https://localhost:8080/",
          "height": 440
        },
        "id": "jo7tH9mFwiTc",
        "outputId": "42d8cd77-35ae-480a-9497-83e0781096d4"
      },
      "execution_count": 24,
      "outputs": [
        {
          "output_type": "display_data",
          "data": {
            "text/plain": [
              "<Figure size 1100x500 with 1 Axes>"
            ],
            "image/png": "[encoded data removed]"
          },
          "metadata": {}
        }
      ]
    },
    {
      "cell_type": "markdown",
      "source": [
        "## Example"
      ],
      "metadata": {
        "id": "sAEJzkTL0xEr"
      }
    },
    {
      "cell_type": "markdown",
      "source": [
        "**To observe and visualize the apparent retrograde motion of Mars from Earth's perspective**"
      ],
      "metadata": {
        "id": "q9yFENCB05mJ"
      }
    },
    {
      "cell_type": "code",
      "source": [
        "def GetMarsPosition(startDate:int or float,endDate:int or float,observerLocation:tuple)->list:\n",
        "  ts = load.timescale()\n",
        "  planetsData = load(\"de421.bsp\")\n",
        "  mars = planetsData[\"mars\"]\n",
        "  earth = planetsData[\"earth\"] + observerLocation\n",
        "  currentDate = startDate\n",
        "  positions = []\n",
        "  while currentDate <= endDate:\n",
        "    time = ts.utc(currentDate.year,currentDate.month,currentDate.day)\n",
        "    astrometricValues = earth.at(time).observe(mars)\n",
        "    ra,dec,dist = astrometricValues.radec()\n",
        "    positions.append((ra.hours,dec.degrees))\n",
        "    currentDate += timedelta(days=1)\n",
        "  return positions"
      ],
      "metadata": {
        "id": "iacG6MdLyK2w"
      },
      "execution_count": 25,
      "outputs": []
    },
    {
      "cell_type": "code",
      "source": [
        "def PlotMarsMotion(positions:list)->None:\n",
        "  raValues,decValues = zip(*positions)\n",
        "  plt.figure(figsize=(11,5))\n",
        "  plt.plot(raValues,decValues,\"o-\")\n",
        "  plt.xlabel(\"Right Ascension (hours)\")\n",
        "  plt.ylabel(\"Declination (degrees)\")\n",
        "  plt.title(\"Apparent Motion of Mars Over Several Months\")\n",
        "  plt.grid(True)\n",
        "  plt.tight_layout()\n",
        "  plt.show()"
      ],
      "metadata": {
        "id": "ptGOKn0u171Z"
      },
      "execution_count": 26,
      "outputs": []
    },
    {
      "cell_type": "code",
      "source": [
        "observerLocation = Topos(\"40.7128 N\",\"74.0060 W\") # Example: New York City"
      ],
      "metadata": {
        "id": "GA4XBH_Z2UNS"
      },
      "execution_count": 27,
      "outputs": []
    },
    {
      "cell_type": "code",
      "source": [
        "print(f\"Observer:\\n{observerLocation}\")"
      ],
      "metadata": {
        "colab": {
          "base_uri": "https://localhost:8080/"
        },
        "id": "pMjJkJcq2ZpV",
        "outputId": "714e34f4-706f-47a4-b854-2cb263b02af6"
      },
      "execution_count": 28,
      "outputs": [
        {
          "output_type": "stream",
          "name": "stdout",
          "text": [
            "Observer:\n",
            "IERS2010 latitude +40.7128 N longitude -74.0060 E elevation 0.0 m\n"
          ]
        }
      ]
    },
    {
      "cell_type": "code",
      "source": [
        "startDate = datetime(2023,1,1)\n",
        "endDate = datetime(2023,6,30)"
      ],
      "metadata": {
        "id": "oROeQ7i62buA"
      },
      "execution_count": 29,
      "outputs": []
    },
    {
      "cell_type": "code",
      "source": [
        "print(f\"Start from: {startDate}\")\n",
        "print(f\"End to: {endDate}\")"
      ],
      "metadata": {
        "colab": {
          "base_uri": "https://localhost:8080/"
        },
        "id": "UJTB1BY-2jI2",
        "outputId": "c1771c23-34de-4c7b-a6ab-521bf4d5b247"
      },
      "execution_count": 30,
      "outputs": [
        {
          "output_type": "stream",
          "name": "stdout",
          "text": [
            "Start from: 2023-01-01 00:00:00\n",
            "End to: 2023-06-30 00:00:00\n"
          ]
        }
      ]
    },
    {
      "cell_type": "code",
      "source": [
        "marsPosition = GetMarsPosition(startDate,endDate,observerLocation)"
      ],
      "metadata": {
        "id": "ytaGPKNb2msg"
      },
      "execution_count": 31,
      "outputs": []
    },
    {
      "cell_type": "code",
      "source": [
        "PlotMarsMotion(marsPosition)"
      ],
      "metadata": {
        "colab": {
          "base_uri": "https://localhost:8080/",
          "height": 440
        },
        "id": "rj1kN0il2suQ",
        "outputId": "b5e6b2f4-8574-4452-aa1b-359b9fa6571d"
      },
      "execution_count": 32,
      "outputs": [
        {
          "output_type": "display_data",
          "data": {
            "text/plain": [
              "<Figure size 1100x500 with 1 Axes>"
            ],
            "image/png": "[encoded data removed]"
          },
          "metadata": {}
        }
      ]
    },
    {
      "cell_type": "markdown",
      "source": [
        "## Example"
      ],
      "metadata": {
        "id": "8ZJhTxZAJLQa"
      }
    },
    {
      "cell_type": "markdown",
      "source": [
        "**The Two-Line Element set (TLE) is a data format encoding a list of orbital elements of an Earth-orbiting object for a given point in time.**\n",
        "\n",
        "**We can use it for tracking the International Space Station (ISS)**"
      ],
      "metadata": {
        "id": "3adBhE63JlfJ"
      }
    },
    {
      "cell_type": "code",
      "source": [
        "def FetchTLEData()->dict:\n",
        "  tleURL = \"http://celestrak.com/NORAD/elements/stations.txt\"\n",
        "  satellites = load.tle_file(tleURL)\n",
        "  iss = {sat.name: sat for sat in satellites}[\"ISS (ZARYA)\"]\n",
        "  return iss"
      ],
      "metadata": {
        "id": "gXyoYC_L2vNc"
      },
      "execution_count": 33,
      "outputs": []
    },
    {
      "cell_type": "code",
      "source": [
        "issDATA = FetchTLEData()\n",
        "print(f\"ISS:\\n{issDATA}\")"
      ],
      "metadata": {
        "colab": {
          "base_uri": "https://localhost:8080/"
        },
        "id": "TLWQrNAvJ9K4",
        "outputId": "78eefb1e-2bde-4c9a-b537-99a0a2dd4f0b"
      },
      "execution_count": 34,
      "outputs": [
        {
          "output_type": "stream",
          "name": "stderr",
          "text": [
            "\r[#################################] 100% stations.txt\n"
          ]
        },
        {
          "output_type": "stream",
          "name": "stdout",
          "text": [
            "ISS:\n",
            "ISS (ZARYA) catalog #25544 epoch 2023-12-17 13:50:26 UTC\n"
          ]
        }
      ]
    },
    {
      "cell_type": "code",
      "source": [
        "def CalculateISSPosition(issData:dict,time:int or float)->str or tuple:\n",
        "  return issData.at(time)"
      ],
      "metadata": {
        "id": "HcGfs4beKCPQ"
      },
      "execution_count": 35,
      "outputs": []
    },
    {
      "cell_type": "code",
      "source": [
        "def PredictOverflights(issData:dict,observerLocation:tuple,startTime:int or float,endTime:int or float)->tuple:\n",
        "  timeScale = load.timescale()\n",
        "  time,events = issData.find_events(observerLocation,startTime,endTime,altitude_degrees=30)\n",
        "  return time,events"
      ],
      "metadata": {
        "id": "JGXu45NOKPwu"
      },
      "execution_count": 36,
      "outputs": []
    },
    {
      "cell_type": "code",
      "source": [
        "def CalculateDistanceISS(issData:dict,observerLocation:tuple,timeBase:int or float)->int or float:\n",
        "  time = timeBase.now()\n",
        "  issPosition = issData.at(time).position.km\n",
        "  # Convert observer location to GCRS\n",
        "  observerPosition = observerLocation.at(time).position.km\n",
        "  distance = np.linalg.norm(issPosition-observerPosition)\n",
        "  return distance"
      ],
      "metadata": {
        "id": "9WgnV1roL9LP"
      },
      "execution_count": 51,
      "outputs": []
    },
    {
      "cell_type": "code",
      "source": [
        "timeScaleBase = load.timescale()\n",
        "observerLocation = Topos(\"40.7128 N\",\"74.0060 W\") # Example: New York City\n",
        "startTime = timeScaleBase.now()\n",
        "endTime = timeScaleBase.utc(startTime.utc_datetime()+timedelta(days=1))"
      ],
      "metadata": {
        "id": "Q1UhDMG_KmcF"
      },
      "execution_count": 37,
      "outputs": []
    },
    {
      "cell_type": "code",
      "source": [
        "issData = FetchTLEData()\n",
        "issPosition = CalculateISSPosition(issData,startTime)"
      ],
      "metadata": {
        "id": "1AX7OVuBK5tT"
      },
      "execution_count": 38,
      "outputs": []
    },
    {
      "cell_type": "code",
      "source": [
        "print(f\"ISS position at {startTime.utc_datetime()}: {issPosition.position.km} [KM BASE]\")"
      ],
      "metadata": {
        "colab": {
          "base_uri": "https://localhost:8080/"
        },
        "id": "YmLLo7_fLCVM",
        "outputId": "537821b4-f9f2-41ca-d542-b20e55bb2d29"
      },
      "execution_count": 40,
      "outputs": [
        {
          "output_type": "stream",
          "name": "stdout",
          "text": [
            "ISS position at 2023-12-17 19:05:51.547633+00:00: [ 5243.69534976   -60.43093489 -4327.48630063] [KM BASE]\n"
          ]
        }
      ]
    },
    {
      "cell_type": "code",
      "source": [
        "times,events = PredictOverflights(issData,observerLocation,startTime,endTime)\n",
        "for time,event in zip(times,events):\n",
        "  print(event)\n",
        "  name = (\"rise\",\"culminate\",\"set\")[event]\n",
        "  print(f\"{time.utc_datetime()} {name}\\n\")"
      ],
      "metadata": {
        "colab": {
          "base_uri": "https://localhost:8080/"
        },
        "id": "HmXdJpnGLHQO",
        "outputId": "d5c8a3b8-9842-4b24-b261-94081b8a062f"
      },
      "execution_count": 43,
      "outputs": [
        {
          "output_type": "stream",
          "name": "stdout",
          "text": [
            "0\n",
            "2023-12-18 11:20:17.074456+00:00 rise\n",
            "\n",
            "1\n",
            "2023-12-18 11:21:41.428897+00:00 culminate\n",
            "\n",
            "2\n",
            "2023-12-18 11:23:06.309949+00:00 set\n",
            "\n",
            "0\n",
            "2023-12-18 17:50:01.634722+00:00 rise\n",
            "\n",
            "1\n",
            "2023-12-18 17:51:00.902677+00:00 culminate\n",
            "\n",
            "2\n",
            "2023-12-18 17:52:00.027683+00:00 set\n",
            "\n"
          ]
        }
      ]
    },
    {
      "cell_type": "code",
      "source": [
        "distanceISS = CalculateDistanceISS(issData,observerLocation,timeScaleBase)\n",
        "print(f\"Distance from ISS to New York City: {distanceISS:.2f} km\")"
      ],
      "metadata": {
        "colab": {
          "base_uri": "https://localhost:8080/"
        },
        "id": "4j4IHRWyLilN",
        "outputId": "52944df4-a847-4e66-c317-43831f44825f"
      },
      "execution_count": 52,
      "outputs": [
        {
          "output_type": "stream",
          "name": "stdout",
          "text": [
            "Distance from ISS to New York City: 12562.82 km\n"
          ]
        }
      ]
    },
    {
      "cell_type": "markdown",
      "source": [
        "## Example"
      ],
      "metadata": {
        "id": "S7ahywfDOaog"
      }
    },
    {
      "cell_type": "markdown",
      "source": [
        "**Create a sky chart showing the positions of stars, planets, and major constellations from a given location and time.**"
      ],
      "metadata": {
        "id": "DKiPNHdFOeEN"
      }
    },
    {
      "cell_type": "code",
      "source": [
        "planets = load(\"de421.bsp\") # ephemeris DE421"
      ],
      "metadata": {
        "id": "cP1uaXxCbNH2"
      },
      "execution_count": 176,
      "outputs": []
    },
    {
      "cell_type": "code",
      "source": [
        "planets.segments"
      ],
      "metadata": {
        "colab": {
          "base_uri": "https://localhost:8080/"
        },
        "id": "LfPHn1t8eoYP",
        "outputId": "c6700852-c2af-41e7-bdee-9b3fe71b3e8a"
      },
      "execution_count": 177,
      "outputs": [
        {
          "output_type": "execute_result",
          "data": {
            "text/plain": [
              "[<ChebyshevPosition 'de421.bsp' segment 0 SOLAR SYSTEM BARYCENTER -> 1 MERCURY BARYCENTER>,\n",
              " <ChebyshevPosition 'de421.bsp' segment 0 SOLAR SYSTEM BARYCENTER -> 2 VENUS BARYCENTER>,\n",
              " <ChebyshevPosition 'de421.bsp' segment 0 SOLAR SYSTEM BARYCENTER -> 3 EARTH BARYCENTER>,\n",
              " <ChebyshevPosition 'de421.bsp' segment 0 SOLAR SYSTEM BARYCENTER -> 4 MARS BARYCENTER>,\n",
              " <ChebyshevPosition 'de421.bsp' segment 0 SOLAR SYSTEM BARYCENTER -> 5 JUPITER BARYCENTER>,\n",
              " <ChebyshevPosition 'de421.bsp' segment 0 SOLAR SYSTEM BARYCENTER -> 6 SATURN BARYCENTER>,\n",
              " <ChebyshevPosition 'de421.bsp' segment 0 SOLAR SYSTEM BARYCENTER -> 7 URANUS BARYCENTER>,\n",
              " <ChebyshevPosition 'de421.bsp' segment 0 SOLAR SYSTEM BARYCENTER -> 8 NEPTUNE BARYCENTER>,\n",
              " <ChebyshevPosition 'de421.bsp' segment 0 SOLAR SYSTEM BARYCENTER -> 9 PLUTO BARYCENTER>,\n",
              " <ChebyshevPosition 'de421.bsp' segment 0 SOLAR SYSTEM BARYCENTER -> 10 SUN>,\n",
              " <ChebyshevPosition 'de421.bsp' segment 3 EARTH BARYCENTER -> 301 MOON>,\n",
              " <ChebyshevPosition 'de421.bsp' segment 3 EARTH BARYCENTER -> 399 EARTH>,\n",
              " <ChebyshevPosition 'de421.bsp' segment 1 MERCURY BARYCENTER -> 199 MERCURY>,\n",
              " <ChebyshevPosition 'de421.bsp' segment 2 VENUS BARYCENTER -> 299 VENUS>,\n",
              " <ChebyshevPosition 'de421.bsp' segment 4 MARS BARYCENTER -> 499 MARS>]"
            ]
          },
          "metadata": {},
          "execution_count": 177
        }
      ]
    },
    {
      "cell_type": "code",
      "source": [
        "planets[\"MOON\"]"
      ],
      "metadata": {
        "colab": {
          "base_uri": "https://localhost:8080/"
        },
        "id": "FtDAnSAZevu-",
        "outputId": "0b52c1c9-fe27-4551-86d8-840b0def36d3"
      },
      "execution_count": 168,
      "outputs": [
        {
          "output_type": "execute_result",
          "data": {
            "text/plain": [
              "<VectorSum of 2 vectors:\n",
              " 'de421.bsp' segment 0 SOLAR SYSTEM BARYCENTER -> 3 EARTH BARYCENTER\n",
              " 'de421.bsp' segment 3 EARTH BARYCENTER -> 301 MOON>"
            ]
          },
          "metadata": {},
          "execution_count": 168
        }
      ]
    },
    {
      "cell_type": "code",
      "source": [
        "planets[\"JUPITER BARYCENTER\"]"
      ],
      "metadata": {
        "colab": {
          "base_uri": "https://localhost:8080/"
        },
        "id": "8f74Kbb-e7JO",
        "outputId": "49c3cb00-26d4-4675-d6e4-4195bb70e991"
      },
      "execution_count": 172,
      "outputs": [
        {
          "output_type": "execute_result",
          "data": {
            "text/plain": [
              "<ChebyshevPosition 'de421.bsp' segment 0 SOLAR SYSTEM BARYCENTER -> 5 JUPITER BARYCENTER>"
            ]
          },
          "metadata": {},
          "execution_count": 172
        }
      ]
    },
    {
      "cell_type": "code",
      "source": [
        "earthData = planets[\"earth\"]"
      ],
      "metadata": {
        "id": "GQh8fdl6bPXK"
      },
      "execution_count": 119,
      "outputs": []
    },
    {
      "cell_type": "code",
      "source": [
        "observerLocation = Topos(\"40.7128 N\",\"74.0060 W\") # NW\n",
        "timeBase = load.timescale()\n",
        "observingTime = timeBase.utc(2018,9, 3)"
      ],
      "metadata": {
        "id": "TogwBvthbIEh"
      },
      "execution_count": 122,
      "outputs": []
    },
    {
      "cell_type": "code",
      "source": [
        "with load.open(hipparcos.URL) as hFile:\n",
        "    stars = hipparcos.load_dataframe(hFile)"
      ],
      "metadata": {
        "id": "J3n2j0TBa-gQ"
      },
      "execution_count": 147,
      "outputs": []
    },
    {
      "cell_type": "code",
      "source": [
        "stars = stars[stars[\"magnitude\"] <= 2.5]\n",
        "print(f\"Found {len(stars)} - Depends on Magnitude <= 2.5\")"
      ],
      "metadata": {
        "colab": {
          "base_uri": "https://localhost:8080/"
        },
        "id": "fdpTAHA3dk9e",
        "outputId": "93e6e857-9c25-4bb6-9832-47e6d3c9040b"
      },
      "execution_count": 148,
      "outputs": [
        {
          "output_type": "stream",
          "name": "stdout",
          "text": [
            "Found 93 - Depends on Magnitude <= 2.5\n"
          ]
        }
      ]
    },
    {
      "cell_type": "code",
      "source": [
        "stars"
      ],
      "metadata": {
        "colab": {
          "base_uri": "https://localhost:8080/",
          "height": 455
        },
        "id": "zCJ6P_hiddaV",
        "outputId": "c690577d-6c17-435f-f708-733186095a57"
      },
      "execution_count": 149,
      "outputs": [
        {
          "output_type": "execute_result",
          "data": {
            "text/plain": [
              "        magnitude  ra_degrees  dec_degrees  parallax_mas  ra_mas_per_year  \\\n",
              "hip                                                                         \n",
              "677          2.07    2.096533    29.090828         33.60           135.68   \n",
              "746          2.28    2.292040    59.150218         59.89           523.39   \n",
              "2081         2.40    6.570281   -42.305122         42.14           232.76   \n",
              "3179         2.24   10.126613    56.537409         14.27            50.36   \n",
              "3419         2.04   10.896785   -17.986684         34.04           232.79   \n",
              "...           ...         ...          ...           ...              ...   \n",
              "109268       1.73  332.057818   -46.960616         32.16           127.60   \n",
              "112122       2.07  340.666395   -46.884566         19.17           135.68   \n",
              "113368       1.17  344.411773   -29.621837        130.08           329.22   \n",
              "113881       2.44  345.943056    28.082455         16.37           187.76   \n",
              "113963       2.49  346.190070    15.205368         23.36            61.10   \n",
              "\n",
              "        dec_mas_per_year   ra_hours  epoch_year  \n",
              "hip                                              \n",
              "677              -162.95   0.139769     1991.25  \n",
              "746              -180.42   0.152803     1991.25  \n",
              "2081             -353.64   0.438019     1991.25  \n",
              "3179              -32.17   0.675108     1991.25  \n",
              "3419               32.71   0.726452     1991.25  \n",
              "...                  ...        ...         ...  \n",
              "109268           -147.91  22.137188     1991.25  \n",
              "112122             -4.51  22.711093     1991.25  \n",
              "113368           -164.22  22.960785     1991.25  \n",
              "113881            137.61  23.062870     1991.25  \n",
              "113963            -42.56  23.079338     1991.25  \n",
              "\n",
              "[93 rows x 8 columns]"
            ],
            "text/html": [
              "\n",
              "  <div id=\"df-10d21a93-ea44-43fc-ac45-cdf4f891e2ff\" class=\"colab-df-container\">\n",
              "    <div>\n",
              "<style scoped>\n",
              "    .dataframe tbody tr th:only-of-type {\n",
              "        vertical-align: middle;\n",
              "    }\n",
              "\n",
              "    .dataframe tbody tr th {\n",
              "        vertical-align: top;\n",
              "    }\n",
              "\n",
              "    .dataframe thead th {\n",
              "        text-align: right;\n",
              "    }\n",
              "</style>\n",
              "<table border=\"1\" class=\"dataframe\">\n",
              "  <thead>\n",
              "    <tr style=\"text-align: right;\">\n",
              "      <th></th>\n",
              "      <th>magnitude</th>\n",
              "      <th>ra_degrees</th>\n",
              "      <th>dec_degrees</th>\n",
              "      <th>parallax_mas</th>\n",
              "      <th>ra_mas_per_year</th>\n",
              "      <th>dec_mas_per_year</th>\n",
              "      <th>ra_hours</th>\n",
              "      <th>epoch_year</th>\n",
              "    </tr>\n",
              "    <tr>\n",
              "      <th>hip</th>\n",
              "      <th></th>\n",
              "      <th></th>\n",
              "      <th></th>\n",
              "      <th></th>\n",
              "      <th></th>\n",
              "      <th></th>\n",
              "      <th></th>\n",
              "      <th></th>\n",
              "    </tr>\n",
              "  </thead>\n",
              "  <tbody>\n",
              "    <tr>\n",
              "      <th>677</th>\n",
              "      <td>2.07</td>\n",
              "      <td>2.096533</td>\n",
              "      <td>29.090828</td>\n",
              "      <td>33.60</td>\n",
              "      <td>135.68</td>\n",
              "      <td>-162.95</td>\n",
              "      <td>0.139769</td>\n",
              "      <td>1991.25</td>\n",
              "    </tr>\n",
              "    <tr>\n",
              "      <th>746</th>\n",
              "      <td>2.28</td>\n",
              "      <td>2.292040</td>\n",
              "      <td>59.150218</td>\n",
              "      <td>59.89</td>\n",
              "      <td>523.39</td>\n",
              "      <td>-180.42</td>\n",
              "      <td>0.152803</td>\n",
              "      <td>1991.25</td>\n",
              "    </tr>\n",
              "    <tr>\n",
              "      <th>2081</th>\n",
              "      <td>2.40</td>\n",
              "      <td>6.570281</td>\n",
              "      <td>-42.305122</td>\n",
              "      <td>42.14</td>\n",
              "      <td>232.76</td>\n",
              "      <td>-353.64</td>\n",
              "      <td>0.438019</td>\n",
              "      <td>1991.25</td>\n",
              "    </tr>\n",
              "    <tr>\n",
              "      <th>3179</th>\n",
              "      <td>2.24</td>\n",
              "      <td>10.126613</td>\n",
              "      <td>56.537409</td>\n",
              "      <td>14.27</td>\n",
              "      <td>50.36</td>\n",
              "      <td>-32.17</td>\n",
              "      <td>0.675108</td>\n",
              "      <td>1991.25</td>\n",
              "    </tr>\n",
              "    <tr>\n",
              "      <th>3419</th>\n",
              "      <td>2.04</td>\n",
              "      <td>10.896785</td>\n",
              "      <td>-17.986684</td>\n",
              "      <td>34.04</td>\n",
              "      <td>232.79</td>\n",
              "      <td>32.71</td>\n",
              "      <td>0.726452</td>\n",
              "      <td>1991.25</td>\n",
              "    </tr>\n",
              "    <tr>\n",
              "      <th>...</th>\n",
              "      <td>...</td>\n",
              "      <td>...</td>\n",
              "      <td>...</td>\n",
              "      <td>...</td>\n",
              "      <td>...</td>\n",
              "      <td>...</td>\n",
              "      <td>...</td>\n",
              "      <td>...</td>\n",
              "    </tr>\n",
              "    <tr>\n",
              "      <th>109268</th>\n",
              "      <td>1.73</td>\n",
              "      <td>332.057818</td>\n",
              "      <td>-46.960616</td>\n",
              "      <td>32.16</td>\n",
              "      <td>127.60</td>\n",
              "      <td>-147.91</td>\n",
              "      <td>22.137188</td>\n",
              "      <td>1991.25</td>\n",
              "    </tr>\n",
              "    <tr>\n",
              "      <th>112122</th>\n",
              "      <td>2.07</td>\n",
              "      <td>340.666395</td>\n",
              "      <td>-46.884566</td>\n",
              "      <td>19.17</td>\n",
              "      <td>135.68</td>\n",
              "      <td>-4.51</td>\n",
              "      <td>22.711093</td>\n",
              "      <td>1991.25</td>\n",
              "    </tr>\n",
              "    <tr>\n",
              "      <th>113368</th>\n",
              "      <td>1.17</td>\n",
              "      <td>344.411773</td>\n",
              "      <td>-29.621837</td>\n",
              "      <td>130.08</td>\n",
              "      <td>329.22</td>\n",
              "      <td>-164.22</td>\n",
              "      <td>22.960785</td>\n",
              "      <td>1991.25</td>\n",
              "    </tr>\n",
              "    <tr>\n",
              "      <th>113881</th>\n",
              "      <td>2.44</td>\n",
              "      <td>345.943056</td>\n",
              "      <td>28.082455</td>\n",
              "      <td>16.37</td>\n",
              "      <td>187.76</td>\n",
              "      <td>137.61</td>\n",
              "      <td>23.062870</td>\n",
              "      <td>1991.25</td>\n",
              "    </tr>\n",
              "    <tr>\n",
              "      <th>113963</th>\n",
              "      <td>2.49</td>\n",
              "      <td>346.190070</td>\n",
              "      <td>15.205368</td>\n",
              "      <td>23.36</td>\n",
              "      <td>61.10</td>\n",
              "      <td>-42.56</td>\n",
              "      <td>23.079338</td>\n",
              "      <td>1991.25</td>\n",
              "    </tr>\n",
              "  </tbody>\n",
              "</table>\n",
              "<p>93 rows × 8 columns</p>\n",
              "</div>\n",
              "    <div class=\"colab-df-buttons\">\n",
              "\n",
              "  <div class=\"colab-df-container\">\n",
              "    <button class=\"colab-df-convert\" onclick=\"convertToInteractive('df-10d21a93-ea44-43fc-ac45-cdf4f891e2ff')\"\n",
              "            title=\"Convert this dataframe to an interactive table.\"\n",
              "            style=\"display:none;\">\n",
              "\n",
              "  <svg xmlns=\"http://www.w3.org/2000/svg\" height=\"24px\" viewBox=\"0 -960 960 960\">\n",
              "    <path d=\"M120-120v-720h720v720H120Zm60-500h600v-160H180v160Zm220 220h160v-160H400v160Zm0 220h160v-160H400v160ZM180-400h160v-160H180v160Zm440 0h160v-160H620v160ZM180-180h160v-160H180v160Zm440 0h160v-160H620v160Z\"/>\n",
              "  </svg>\n",
              "    </button>\n",
              "\n",
              "  <style>\n",
              "    .colab-df-container {\n",
              "      display:flex;\n",
              "      gap: 12px;\n",
              "    }\n",
              "\n",
              "    .colab-df-convert {\n",
              "      background-color: #E8F0FE;\n",
              "      border: none;\n",
              "      border-radius: 50%;\n",
              "      cursor: pointer;\n",
              "      display: none;\n",
              "      fill: #1967D2;\n",
              "      height: 32px;\n",
              "      padding: 0 0 0 0;\n",
              "      width: 32px;\n",
              "    }\n",
              "\n",
              "    .colab-df-convert:hover {\n",
              "      background-color: #E2EBFA;\n",
              "      box-shadow: 0px 1px 2px rgba(60, 64, 67, 0.3), 0px 1px 3px 1px rgba(60, 64, 67, 0.15);\n",
              "      fill: #174EA6;\n",
              "    }\n",
              "\n",
              "    .colab-df-buttons div {\n",
              "      margin-bottom: 4px;\n",
              "    }\n",
              "\n",
              "    [theme=dark] .colab-df-convert {\n",
              "      background-color: #3B4455;\n",
              "      fill: #D2E3FC;\n",
              "    }\n",
              "\n",
              "    [theme=dark] .colab-df-convert:hover {\n",
              "      background-color: #434B5C;\n",
              "      box-shadow: 0px 1px 3px 1px rgba(0, 0, 0, 0.15);\n",
              "      filter: drop-shadow(0px 1px 2px rgba(0, 0, 0, 0.3));\n",
              "      fill: #FFFFFF;\n",
              "    }\n",
              "  </style>\n",
              "\n",
              "    <script>\n",
              "      const buttonEl =\n",
              "        document.querySelector('#df-10d21a93-ea44-43fc-ac45-cdf4f891e2ff button.colab-df-convert');\n",
              "      buttonEl.style.display =\n",
              "        google.colab.kernel.accessAllowed ? 'block' : 'none';\n",
              "\n",
              "      async function convertToInteractive(key) {\n",
              "        const element = document.querySelector('#df-10d21a93-ea44-43fc-ac45-cdf4f891e2ff');\n",
              "        const dataTable =\n",
              "          await google.colab.kernel.invokeFunction('convertToInteractive',\n",
              "                                                    [key], {});\n",
              "        if (!dataTable) return;\n",
              "\n",
              "        const docLinkHtml = 'Like what you see? Visit the ' +\n",
              "          '<a target=\"_blank\" href=https://colab.research.google.com/notebooks/data_table.ipynb>data table notebook</a>'\n",
              "          + ' to learn more about interactive tables.';\n",
              "        element.innerHTML = '';\n",
              "        dataTable['output_type'] = 'display_data';\n",
              "        await google.colab.output.renderOutput(dataTable, element);\n",
              "        const docLink = document.createElement('div');\n",
              "        docLink.innerHTML = docLinkHtml;\n",
              "        element.appendChild(docLink);\n",
              "      }\n",
              "    </script>\n",
              "  </div>\n",
              "\n",
              "\n",
              "<div id=\"df-4bd37fcb-fd19-4978-bb2f-da7ed5812a8b\">\n",
              "  <button class=\"colab-df-quickchart\" onclick=\"quickchart('df-4bd37fcb-fd19-4978-bb2f-da7ed5812a8b')\"\n",
              "            title=\"Suggest charts\"\n",
              "            style=\"display:none;\">\n",
              "\n",
              "<svg xmlns=\"http://www.w3.org/2000/svg\" height=\"24px\"viewBox=\"0 0 24 24\"\n",
              "     width=\"24px\">\n",
              "    <g>\n",
              "        <path d=\"M19 3H5c-1.1 0-2 .9-2 2v14c0 1.1.9 2 2 2h14c1.1 0 2-.9 2-2V5c0-1.1-.9-2-2-2zM9 17H7v-7h2v7zm4 0h-2V7h2v10zm4 0h-2v-4h2v4z\"/>\n",
              "    </g>\n",
              "</svg>\n",
              "  </button>\n",
              "\n",
              "<style>\n",
              "  .colab-df-quickchart {\n",
              "      --bg-color: #E8F0FE;\n",
              "      --fill-color: #1967D2;\n",
              "      --hover-bg-color: #E2EBFA;\n",
              "      --hover-fill-color: #174EA6;\n",
              "      --disabled-fill-color: #AAA;\n",
              "      --disabled-bg-color: #DDD;\n",
              "  }\n",
              "\n",
              "  [theme=dark] .colab-df-quickchart {\n",
              "      --bg-color: #3B4455;\n",
              "      --fill-color: #D2E3FC;\n",
              "      --hover-bg-color: #434B5C;\n",
              "      --hover-fill-color: #FFFFFF;\n",
              "      --disabled-bg-color: #3B4455;\n",
              "      --disabled-fill-color: #666;\n",
              "  }\n",
              "\n",
              "  .colab-df-quickchart {\n",
              "    background-color: var(--bg-color);\n",
              "    border: none;\n",
              "    border-radius: 50%;\n",
              "    cursor: pointer;\n",
              "    display: none;\n",
              "    fill: var(--fill-color);\n",
              "    height: 32px;\n",
              "    padding: 0;\n",
              "    width: 32px;\n",
              "  }\n",
              "\n",
              "  .colab-df-quickchart:hover {\n",
              "    background-color: var(--hover-bg-color);\n",
              "    box-shadow: 0 1px 2px rgba(60, 64, 67, 0.3), 0 1px 3px 1px rgba(60, 64, 67, 0.15);\n",
              "    fill: var(--button-hover-fill-color);\n",
              "  }\n",
              "\n",
              "  .colab-df-quickchart-complete:disabled,\n",
              "  .colab-df-quickchart-complete:disabled:hover {\n",
              "    background-color: var(--disabled-bg-color);\n",
              "    fill: var(--disabled-fill-color);\n",
              "    box-shadow: none;\n",
              "  }\n",
              "\n",
              "  .colab-df-spinner {\n",
              "    border: 2px solid var(--fill-color);\n",
              "    border-color: transparent;\n",
              "    border-bottom-color: var(--fill-color);\n",
              "    animation:\n",
              "      spin 1s steps(1) infinite;\n",
              "  }\n",
              "\n",
              "  @keyframes spin {\n",
              "    0% {\n",
              "      border-color: transparent;\n",
              "      border-bottom-color: var(--fill-color);\n",
              "      border-left-color: var(--fill-color);\n",
              "    }\n",
              "    20% {\n",
              "      border-color: transparent;\n",
              "      border-left-color: var(--fill-color);\n",
              "      border-top-color: var(--fill-color);\n",
              "    }\n",
              "    30% {\n",
              "      border-color: transparent;\n",
              "      border-left-color: var(--fill-color);\n",
              "      border-top-color: var(--fill-color);\n",
              "      border-right-color: var(--fill-color);\n",
              "    }\n",
              "    40% {\n",
              "      border-color: transparent;\n",
              "      border-right-color: var(--fill-color);\n",
              "      border-top-color: var(--fill-color);\n",
              "    }\n",
              "    60% {\n",
              "      border-color: transparent;\n",
              "      border-right-color: var(--fill-color);\n",
              "    }\n",
              "    80% {\n",
              "      border-color: transparent;\n",
              "      border-right-color: var(--fill-color);\n",
              "      border-bottom-color: var(--fill-color);\n",
              "    }\n",
              "    90% {\n",
              "      border-color: transparent;\n",
              "      border-bottom-color: var(--fill-color);\n",
              "    }\n",
              "  }\n",
              "</style>\n",
              "\n",
              "  <script>\n",
              "    async function quickchart(key) {\n",
              "      const quickchartButtonEl =\n",
              "        document.querySelector('#' + key + ' button');\n",
              "      quickchartButtonEl.disabled = true;  // To prevent multiple clicks.\n",
              "      quickchartButtonEl.classList.add('colab-df-spinner');\n",
              "      try {\n",
              "        const charts = await google.colab.kernel.invokeFunction(\n",
              "            'suggestCharts', [key], {});\n",
              "      } catch (error) {\n",
              "        console.error('Error during call to suggestCharts:', error);\n",
              "      }\n",
              "      quickchartButtonEl.classList.remove('colab-df-spinner');\n",
              "      quickchartButtonEl.classList.add('colab-df-quickchart-complete');\n",
              "    }\n",
              "    (() => {\n",
              "      let quickchartButtonEl =\n",
              "        document.querySelector('#df-4bd37fcb-fd19-4978-bb2f-da7ed5812a8b button');\n",
              "      quickchartButtonEl.style.display =\n",
              "        google.colab.kernel.accessAllowed ? 'block' : 'none';\n",
              "    })();\n",
              "  </script>\n",
              "</div>\n",
              "    </div>\n",
              "  </div>\n"
            ]
          },
          "metadata": {},
          "execution_count": 149
        }
      ]
    },
    {
      "cell_type": "code",
      "source": [
        "starFrame = Star.from_dataframe(stars)\n",
        "observer = earthData + observerLocation\n",
        "astrometric = observer.at(observingTime).observe(starFrame)"
      ],
      "metadata": {
        "id": "OHpGMrH-bAp7"
      },
      "execution_count": 150,
      "outputs": []
    },
    {
      "cell_type": "code",
      "source": [
        "starFrame"
      ],
      "metadata": {
        "colab": {
          "base_uri": "https://localhost:8080/"
        },
        "id": "zpmPIfzvdudc",
        "outputId": "3e33e305-446a-456f-c857-283b3341245c"
      },
      "execution_count": 155,
      "outputs": [
        {
          "output_type": "execute_result",
          "data": {
            "text/plain": [
              "Star(ra shape=93, dec shape=93, ra_mas_per_year shape=93, dec_mas_per_year shape=93, parallax_mas shape=93, epoch shape=93)"
            ]
          },
          "metadata": {},
          "execution_count": 155
        }
      ]
    },
    {
      "cell_type": "code",
      "source": [
        "alt,az,d = astrometric.apparent().altaz()"
      ],
      "metadata": {
        "id": "-I_PV2DVcCOT"
      },
      "execution_count": 151,
      "outputs": []
    },
    {
      "cell_type": "code",
      "source": [
        "alt"
      ],
      "metadata": {
        "colab": {
          "base_uri": "https://localhost:8080/"
        },
        "id": "6ZsCACTacT8F",
        "outputId": "e0a1a144-fff6-4576-9e42-4dee5c613bee"
      },
      "execution_count": 152,
      "outputs": [
        {
          "output_type": "execute_result",
          "data": {
            "text/plain": [
              "<Angle 93 values from 15deg 35' 54.3\" to 18deg 39' 03.0\">"
            ]
          },
          "metadata": {},
          "execution_count": 152
        }
      ]
    },
    {
      "cell_type": "code",
      "source": [
        "az"
      ],
      "metadata": {
        "colab": {
          "base_uri": "https://localhost:8080/"
        },
        "id": "aUs7s_-ScVIb",
        "outputId": "76045ff8-97b6-4c95-b41b-f1ed7b977fb6"
      },
      "execution_count": 153,
      "outputs": [
        {
          "output_type": "execute_result",
          "data": {
            "text/plain": [
              "<Angle 93 values from 64deg 40' 08.8\" to 85deg 34' 35.8\">"
            ]
          },
          "metadata": {},
          "execution_count": 153
        }
      ]
    },
    {
      "cell_type": "code",
      "source": [
        "d"
      ],
      "metadata": {
        "colab": {
          "base_uri": "https://localhost:8080/"
        },
        "id": "OwydUhShcWFW",
        "outputId": "b492b635-8f92-4252-bc76-05e3d0893d77"
      },
      "execution_count": 154,
      "outputs": [
        {
          "output_type": "execute_result",
          "data": {
            "text/plain": [
              "<Distance [6.13883277e+06 3.44406053e+06 4.89475023e+06 1.44544359e+07\n",
              " 6.05948228e+06 3.87715798e+07 1.26078727e+07 9.09456767e+06\n",
              " 2.24444834e+07 4.16864955e+06 2.72837047e+07 5.86980074e+06\n",
              " 3.74346290e+07 4.11788392e+06 4.88779163e+07 2.66871291e+06\n",
              " 1.53699559e+07 8.28705550e+06 5.79395525e+07 8.48826365e+07\n",
              " 5.16954404e+07 4.56338069e+07 2.70333956e+07 5.19297126e+06\n",
              " 3.15872601e+07 1.97761081e+07 6.62804695e+06 5.43933366e+05\n",
              " 2.72476631e+07 1.13332312e+08 2.02220399e+08 3.26007344e+06\n",
              " 7.21382875e+05 2.13215704e+06 8.85256684e+07 5.31610330e+07\n",
              " 3.99738000e+07 5.04314968e+06 3.62504059e+07 7.03015719e+06\n",
              " 4.37929528e+07 3.40933568e+07 1.12100447e+07 4.90056659e+06\n",
              " 7.94548659e+06 5.02227498e+06 7.81898491e+06 2.28776502e+06\n",
              " 5.29019832e+06 2.02816922e+07 5.56119764e+06 8.24729381e+06\n",
              " 2.22988983e+07 5.11823399e+06 4.94284279e+06 1.65807729e+07\n",
              " 2.37632269e+07 6.36816377e+06 3.32149449e+07 3.85397666e+06\n",
              " 2.32149546e+06 1.95141731e+07 2.77940141e+05 2.77940141e+05\n",
              " 3.46663542e+07 1.32646183e+07 7.99786014e+06 4.72542546e+06\n",
              " 2.54020699e+07 3.81971864e+07 2.62757714e+07 4.13770919e+06\n",
              " 5.32021670e+06 4.44536218e+07 2.95339053e+06 1.72030695e+07\n",
              " 2.93406550e+07 9.33324907e+06 9.14699765e+06 1.59981984e+06\n",
              " 1.41860247e+07 1.06081400e+06 9.63854230e+07 1.15879099e+07\n",
              " 2.04222580e+08 4.55733049e+06 3.08594832e+06 4.25288251e+07\n",
              " 6.41370590e+06 1.07597700e+07 1.58567562e+06 1.26001706e+07\n",
              " 8.82982811e+06] au>"
            ]
          },
          "metadata": {},
          "execution_count": 154
        }
      ]
    },
    {
      "cell_type": "code",
      "source": [
        "def PlotNightSky(observerLocation:tuple,observingTime:int or float or tuple,titleCoord:str)->None:\n",
        "  timeBase = load.timescale()\n",
        "  timeUTC = timeBase.utc(\n",
        "      observingTime.year,\n",
        "      observingTime.month,\n",
        "      observingTime.day,\n",
        "      observingTime.hour,\n",
        "      observingTime.minute\n",
        "  )\n",
        "  planets = load(\"de421.bsp\")\n",
        "  earthData = planets[\"earth\"]\n",
        "  with load.open(hipparcos.URL) as hFile:\n",
        "    stars = hipparcos.load_dataframe(hFile)\n",
        "  stars = stars[stars[\"magnitude\"] <= 2.5]\n",
        "  print(f\"Found {len(stars)} - Depends on Magnitude <= 2.5\")\n",
        "  figure = plt.figure(figsize=(11,11))\n",
        "  ax = plt.subplot(111,polar=True)\n",
        "  for planetName in ['mercury','venus','mars','moon','JUPITER BARYCENTER','SATURN BARYCENTER','URANUS BARYCENTER','NEPTUNE BARYCENTER']:\n",
        "    planetData = planets[planetName]\n",
        "    observer = earthData + observerLocation\n",
        "    astrometricPlanet = observer.at(timeUTC).observe(planetData)\n",
        "    alt,az,d = astrometricPlanet.apparent().altaz()\n",
        "    if alt.degrees > 0: # Only plot if above the horizon\n",
        "      ax.annotate(\n",
        "          planetName.upper(),\n",
        "          xy=(np.radians(az.degrees),90-alt.degrees),\n",
        "          xytext=(5,5),\n",
        "          textcoords=\"offset points\"\n",
        "      )\n",
        "      ax.scatter(\n",
        "          np.radians(az.degrees),\n",
        "          90-alt.degrees,\n",
        "          color=\"white\",\n",
        "          label=planetName.capitalize())\n",
        "  observer = earthData + observerLocation\n",
        "  for starID in stars.index[:200]:\n",
        "    star = Star.from_dataframe(stars.loc[starID])\n",
        "    astrometricStar = observer.at(timeUTC).observe(star)\n",
        "    alt,az,d = astrometricStar.apparent().altaz()\n",
        "    if alt.degrees > 0: # Only plot if above the horizon\n",
        "      ax.scatter(\n",
        "          np.radians(az.degrees),\n",
        "          90-alt.degrees,\n",
        "          color=\"yellow\",\n",
        "          s=0.7\n",
        "          )\n",
        "  ax.set_title(f\"From: {observerLocation} / {titleCoord}\")\n",
        "  ax.set_theta_zero_location(\"N\")\n",
        "  ax.set_theta_direction(-1)\n",
        "  ax.set_ylim(0,90)\n",
        "  ax.set_yticks(range(0,91,30))\n",
        "  ax.set_yticklabels(['90°','60°','30°','Horizon'])\n",
        "  ax.legend()\n",
        "  plt.tight_layout()\n",
        "  plt.show()\n"
      ],
      "metadata": {
        "id": "hd5FpsTKM0qT"
      },
      "execution_count": 180,
      "outputs": []
    },
    {
      "cell_type": "code",
      "source": [
        "observerLocation = Topos(\"55.9533 N\",\"3.1883 W\") # Edinburgh / Coordinates\n",
        "observingLocal = datetime(2023,4,1,22,0)  # 10:00 PM local time\n",
        "PlotNightSky(observerLocation,observingLocal,titleCoord=\"Edinburgh\")"
      ],
      "metadata": {
        "colab": {
          "base_uri": "https://localhost:8080/",
          "height": 982
        },
        "id": "hs9xGLKGQHr0",
        "outputId": "ecb1a0f4-35ca-45f2-ece5-dbd44296d8a4"
      },
      "execution_count": 181,
      "outputs": [
        {
          "output_type": "stream",
          "name": "stdout",
          "text": [
            "Found 93 - Depends on Magnitude <= 2.5\n"
          ]
        },
        {
          "output_type": "display_data",
          "data": {
            "text/plain": [
              "<Figure size 1100x1100 with 1 Axes>"
            ],
            "image/png": "[encoded data removed]"
          },
          "metadata": {}
        }
      ]
    },
    {
      "cell_type": "code",
      "source": [],
      "metadata": {
        "id": "fk6zWbi0QepQ"
      },
      "execution_count": null,
      "outputs": []
    }
  ]
}