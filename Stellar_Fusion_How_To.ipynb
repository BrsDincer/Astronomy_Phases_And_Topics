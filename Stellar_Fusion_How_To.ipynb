{
  "nbformat": 4,
  "nbformat_minor": 0,
  "metadata": {
    "colab": {
      "provenance": [],
      "toc_visible": true
    },
    "kernelspec": {
      "name": "python3",
      "display_name": "Python 3"
    },
    "language_info": {
      "name": "python"
    }
  },
  "cells": [
    {
      "cell_type": "markdown",
      "source": [
        "# Stellar Fusion\n",
        "\n",
        "* Stellar fusion, also known as nuclear fusion in the context of stars, is the process by which multiple atomic nuclei combine to form a heavier nucleus, releasing energy in the process. This is the fundamental reaction that powers stars, including our own Sun, and is responsible for the synthesis of elements heavier than hydrogen in the universe.\n",
        "\n",
        "## The Process\n",
        "\n",
        "**Here's a step-by-step breakdown of how stellar fusion typically occurs**:\n",
        "\n",
        "- **High Temperature and Pressure**: Inside a star, temperatures and pressures are extremely high, particularly in the core. For the Sun, the core temperature is about 15 million degrees Celsius (27 million degrees Fahrenheit).\n",
        "\n",
        "- **Hydrogen Fusion**: In the cores of stars like the Sun, hydrogen nuclei (protons) collide with such force that they overcome the electrostatic repulsion between them (because they both have positive charge) and fuse together. This process is called the proton-proton chain reaction.\n",
        "- **Formation of Helium**: In stars the size of the Sun, four hydrogen nuclei ultimately combine to form a helium nucleus (two protons and two neutrons) in a multi-step process that involves intermediate particles and gamma rays. This conversion also releases positrons and neutrinos.\n",
        "- **Energy Release**: The mass of the resulting helium nucleus is slightly less than the total mass of the four hydrogen nuclei that went into making it. The missing mass is converted into energy according to Einstein's mass-energy equivalence principle $E=mc2$. This energy is emitted as electromagnetic radiation, including the visible light and heat that reach Earth from the Sun.\n",
        "- **Heavier Element Synthesis**: In more massive stars, the fusion process can continue to combine lighter elements into heavier ones, such as carbon, oxygen, and silicon, all the way up to iron, through various fusion reactions such as the carbon-nitrogen-oxygen (CNO) cycle and other fusion pathways."
      ],
      "metadata": {
        "id": "sDiVeKaouohB"
      }
    },
    {
      "cell_type": "code",
      "execution_count": 20,
      "metadata": {
        "id": "LyIy8KjLuH81"
      },
      "outputs": [],
      "source": [
        "import numpy as np\n",
        "import pandas as pd\n",
        "from numpy.random import default_rng\n",
        "import matplotlib.pyplot as plt\n",
        "import matplotlib.animation as animation\n",
        "from matplotlib import rc\n",
        "from IPython.display import Image\n",
        "%matplotlib inline\n",
        "plt.style.use(\"dark_background\")"
      ]
    },
    {
      "cell_type": "code",
      "source": [
        "protonMass = 1.6726219236951*10**(-27) # kg"
      ],
      "metadata": {
        "id": "AkslDV9qvPM0"
      },
      "execution_count": 2,
      "outputs": []
    },
    {
      "cell_type": "code",
      "source": [
        "atomicMass = 1.66054*10**(-27) # kg\n",
        "amuProton = protonMass/atomicMass\n",
        "print(f\"Proton Mass in Atomic Mass Unit(AMU): {amuProton} u\")"
      ],
      "metadata": {
        "colab": {
          "base_uri": "https://localhost:8080/"
        },
        "id": "P0qJ01t5vRra",
        "outputId": "ac9c94e2-a083-44e9-936b-0392f1902ff2"
      },
      "execution_count": 3,
      "outputs": [
        {
          "output_type": "stream",
          "name": "stdout",
          "text": [
            "Proton Mass in Atomic Mass Unit(AMU): 1.00727590042703 u\n"
          ]
        }
      ]
    },
    {
      "cell_type": "code",
      "source": [
        "speedofLight = 299792458 # m/s\n",
        "protonEnergy = protonMass*speedofLight**2\n",
        "print(f\"Proton's Rest Energy: {protonEnergy} J\")"
      ],
      "metadata": {
        "colab": {
          "base_uri": "https://localhost:8080/"
        },
        "id": "H9cMJzhDvcV7",
        "outputId": "1d2710fe-141b-4dd6-e446-49f6e93539bf"
      },
      "execution_count": 4,
      "outputs": [
        {
          "output_type": "stream",
          "name": "stdout",
          "text": [
            "Proton's Rest Energy: 1.5032776159897095e-10 J\n"
          ]
        }
      ]
    },
    {
      "cell_type": "markdown",
      "source": [
        "$1 eV = 1.602176634 \\times 10^{-10} J$"
      ],
      "metadata": {
        "id": "Mz6ycXShvrgC"
      }
    },
    {
      "cell_type": "code",
      "source": [
        "eV = 1.602176634*10**(-19) # J\n",
        "protonEnergyEV = protonEnergy/eV\n",
        "print(f\"Proton's Rest Energy as eV: {protonEnergyEV} eV or {protonEnergyEV/10**6} MeV\")"
      ],
      "metadata": {
        "colab": {
          "base_uri": "https://localhost:8080/"
        },
        "id": "QBYxgBRQvnCJ",
        "outputId": "6001e303-9c92-4288-b323-7e9d60f5a5c4"
      },
      "execution_count": 5,
      "outputs": [
        {
          "output_type": "stream",
          "name": "stdout",
          "text": [
            "Proton's Rest Energy as eV: 938272088.1633513 eV or 938.2720881633513 MeV\n"
          ]
        }
      ]
    },
    {
      "cell_type": "markdown",
      "source": [
        "# Mass Excess\n",
        "\n",
        "* Mass excess is a concept in nuclear physics that quantifies the difference between the actual mass of an atomic nucleus and its mass number. The mass number (A) of a nucleus is the total number of protons and neutrons it contains. Since the mass of a proton or neutron is roughly 1 atomic mass unit (amu), one might expect the mass of a nucleus to be roughly equal to its mass number. However, due to binding energy within the nucleus, this is not the case.\n",
        "\n",
        "The mass excess ($\\Delta$) of a nucleus is defined as the difference between the actual mass of the nucleus (m) and its mass number (A), scaled by the atomic mass unit (u):\n",
        "> $\\Delta M = m - A \\times u$\n",
        "\n",
        "* The actual mass (m) of the nucleus is typically less than the mass number (A) times the atomic mass unit (u) due to the binding energy that holds the nucleus together. This is described by Einstein’s equation $E = mc^{2}$, where the binding energy (E) corresponds to a \"missing\" mass ($\\Delta M$) in the nucleus:\n",
        "> $E_{\\text{bindings}} = \\Delta M \\times c^{2}$ , where $\\Delta M = m - (Zm_p + Nm_n)$\n",
        "\n",
        "where:\n",
        "\n",
        "$Z$: the number of protons and, $m_p$ is the mass of a proton\n",
        "\n",
        "$N$: the number of neutrons and $m_n$ is the mass of a neutron\n",
        "\n",
        "## Significance\n",
        "\n",
        "- **Binding Energy**: The mass excess is directly related to the nuclear binding energy, which is the energy required to disassemble a nucleus into its component protons and neutrons.\n",
        "- **Stability of Nuclei**: The greater the binding energy (and thus the mass deficit), the more stable the nucleus.\n",
        "- **Nuclear Reactions**: Mass excess is important for calculating the energy released or absorbed in nuclear reactions, such as fission or fusion."
      ],
      "metadata": {
        "id": "AnoLGn3GxNg3"
      }
    },
    {
      "cell_type": "markdown",
      "source": [
        "**Hydrogen Atom**: It consists of one proton and one electron. The mass of the most common hydrogen atom (protium) is approximately `1.007825 amu`.\n",
        "\n",
        "When we speak of a hydrogen nucleus, we mean a single proton, which has a mass of approximately 1.007276 amu. It is typically defined for nuclei heavier than hydrogen. For the hydrogen nucleus (proton), the mass excess is very small because its atomic mass is only slightly greater than 1 amu.\n",
        "\n",
        "$\\Delta H = (1.007276 - 1) \\times 938.5 MeV/c^2$\n",
        "\n",
        "$\\Delta H \\approx 7.276 MeV/c^2$\n",
        "\n",
        "**The mass excess of the hydrogen nucleus is quite small compared to that of heavier nuclei. For heavier nuclei, the mass excess becomes more significant due to the larger binding energy per nucleon. This mass excess plays a crucial role in the energy release during nuclear fusion in stars, where hydrogen nuclei fuse to form helium, releasing the binding energy difference as radiation.**"
      ],
      "metadata": {
        "id": "AmEGWnt00750"
      }
    },
    {
      "cell_type": "code",
      "source": [
        "deltaMH = 1.0078250321-1 #amu or u\n",
        "protonEnergyMEV = protonEnergyEV/10**6\n",
        "print(f\"Mass excess for 1H atom: {deltaMH} u or {deltaMH*protonEnergyMEV*1000} keV\")"
      ],
      "metadata": {
        "colab": {
          "base_uri": "https://localhost:8080/"
        },
        "id": "rwXE4yw7xGsX",
        "outputId": "725cde40-fb29-4659-bd8c-90769c36760b"
      },
      "execution_count": 6,
      "outputs": [
        {
          "output_type": "stream",
          "name": "stdout",
          "text": [
            "Mass excess for 1H atom: 0.007825032099999962 u or 7342.009208412219 keV\n"
          ]
        }
      ]
    },
    {
      "cell_type": "markdown",
      "source": [
        "The nucleus mass can be determined by considering the mass of its constituent protons and neutrons and then subtracting the mass equivalent of the binding energy. The binding energy is the energy required to disassemble the nucleus into its separate protons and neutrons and is effectively the energy due to the strong nuclear force that holds the nucleus together.\n",
        "\n",
        "> $M = Zm_p + Nm_n - \\frac{E_b}{c^2}$\n",
        "\n",
        "where:\n",
        "\n",
        "$M$: the mass of the nucleus\n",
        "\n",
        "$Z$: the number of protons in the nucleus\n",
        "\n",
        "$m_p$: the mass of a proton\n",
        "\n",
        "$N$: the number of neutrons in the nucleus\n",
        "\n",
        "$m_n$: the mass of a neutron\n",
        "\n",
        "$E_b$: the binding energy of the nucleus\n",
        "\n",
        "$c$:  the speed of light in a vacuum"
      ],
      "metadata": {
        "id": "vU17HxN34FS4"
      }
    },
    {
      "cell_type": "code",
      "source": [
        "def CalculateNucleusMass(numberofProtons:int or float,numberofNeutrons:int or float, bindingEnergy:int or float)->int or float:\n",
        "  \"\"\"\n",
        "    Calculate the mass of a nucleus based on the number of protons, neutrons, and the binding energy.\n",
        "\n",
        "    numberofProtons :param Z: Number of protons\n",
        "    numberofNeutrons :param N: Number of neutrons\n",
        "    bindingEnergy :param binding_energy_MeV: Binding energy in MeV\n",
        "    :return: Mass of the nucleus in atomic mass units (amu)\n",
        "  \"\"\"\n",
        "  massProton = 1.007276  # Mass of a proton in amu\n",
        "  massNeutron = 1.008665  # Mass of a neutron in amu\n",
        "  bindingEnergyAMU = bindingEnergy / 931.494 # Convert MeV to amu\n",
        "  massNucleusAMU = numberofProtons*massProton+numberofNeutrons*massNeutron-bindingEnergyAMU\n",
        "  return massNucleusAMU"
      ],
      "metadata": {
        "id": "aG9m2NFIxGXD"
      },
      "execution_count": 7,
      "outputs": []
    },
    {
      "cell_type": "code",
      "source": [
        "z = 1 # Number of protons in Hydrogen\n",
        "n = 0 # Number of neutrons in most common Hydrogen isotope"
      ],
      "metadata": {
        "id": "1qBX5_rZ5Owj"
      },
      "execution_count": 8,
      "outputs": []
    },
    {
      "cell_type": "code",
      "source": [
        "bindingEnergy = 0  # Binding energy for a single proton is effectively zero"
      ],
      "metadata": {
        "id": "XatgKMnF5RyX"
      },
      "execution_count": 9,
      "outputs": []
    },
    {
      "cell_type": "code",
      "source": [
        "hydrogenMassAMU = CalculateNucleusMass(z,n,bindingEnergy)\n",
        "print(f\"Mass of the hydrogen nucleus: {hydrogenMassAMU} amu\")"
      ],
      "metadata": {
        "colab": {
          "base_uri": "https://localhost:8080/"
        },
        "id": "zNQbhdir5VVi",
        "outputId": "5d9a44e9-8fff-451d-e538-9b0fd9afc00b"
      },
      "execution_count": 10,
      "outputs": [
        {
          "output_type": "stream",
          "name": "stdout",
          "text": [
            "Mass of the hydrogen nucleus: 1.007276 amu\n"
          ]
        }
      ]
    },
    {
      "cell_type": "markdown",
      "source": [
        "# Mass Defect\n",
        "\n",
        "* Mass excess was the difference between the actual mass and the mass number. Mass defect refers to the difference between the sum of the individual masses of the protons and neutrons in a nucleus and the actual mass of the nucleus itself. Stable nuclei have a negative mass defect.\n",
        "\n",
        "**Here is a step-by-step explanation of mass defect**:\n",
        "\n",
        "- **Constituent Masses**: If you add up the masses of all the protons and neutrons (nucleons) that make up a nucleus, this total is the 'expected' mass if the particles were separate and not bound together.\n",
        "- **Actual Nucleus Mass**: The actual measured mass of a nucleus is less than this total. The 'missing' mass is what we call the mass defect.\n",
        "- **Binding Energy**: The mass defect corresponds to the binding energy of the nucleus, which is the energy required to break the nucleus apart into its individual protons and neutrons. This energy is released when the nucleus forms from separate nucleons.\n",
        "- **Energy-Mass Equivalence**: According to Einstein's equation, mass can be converted into energy and vice versa. The binding energy of the nucleus is the energy equivalent of the mass defect.\n",
        "- **Stability**: A large mass defect means a large binding energy, which generally indicates a more stable nucleus. If the binding energy per nucleon is high, it means that it would require a lot of energy to break the nucleus apart, implying it is stable."
      ],
      "metadata": {
        "id": "3A6rxLoE93Tk"
      }
    },
    {
      "cell_type": "code",
      "source": [
        "# Constants for proton and neutron mass in atomic mass units (u)\n",
        "massProton = 1.007276466812\n",
        "massNeutron = 1.00866491595\n",
        "# Mass of Helium-4 nucleus (alpha particle) in atomic mass units (u)\n",
        "massAlpha = 4.00260325415"
      ],
      "metadata": {
        "id": "7iYCg95V8TD3"
      },
      "execution_count": 11,
      "outputs": []
    },
    {
      "cell_type": "code",
      "source": [
        "def CalculateSimpleMassExcess(massNucleus:int or float,massNumber:int or float,amutoMeV:float=931.494)->int or float:\n",
        "  \"\"\"\n",
        "    Calculate the mass excess of a nucleus.\n",
        "\n",
        "    massNucleus :param mass_nucleus_u: Actual mass of the nucleus in atomic mass units (u)\n",
        "    massNumber :param A: Mass number (sum of protons and neutrons)\n",
        "    :return: Mass excess in MeV\n",
        "  \"\"\"\n",
        "  massExcess = massNucleus-massNumber\n",
        "  massExcessMEV = massExcess*amutoMeV\n",
        "  return massExcessMEV"
      ],
      "metadata": {
        "id": "k6SM8rvV5c68"
      },
      "execution_count": 12,
      "outputs": []
    },
    {
      "cell_type": "code",
      "source": [
        "def CalculateBindingEnergy(numberofProtons:int or float,numberofNeutrons:int or float,massNucleus:int or float,amutoMeV:float=931.494)->int or float:\n",
        "  \"\"\"\n",
        "    Calculate the binding energy of a nucleus.\n",
        "\n",
        "    numberofProtons :param Z: Number of protons in the nucleus\n",
        "    numberofNeutrons :param N: Number of neutrons in the nucleus\n",
        "    massNucleus :param mass_nucleus_u: Actual mass of the nucleus in atomic mass units (u)\n",
        "    :return: Binding energy in MeV\n",
        "  \"\"\"\n",
        "  # Calculate the total mass of protons and neutrons in atomic mass units (u)\n",
        "  totalMass = (numberofProtons*massProton)+(numberofNeutrons*massNeutron)\n",
        "  massDefect = totalMass-massNucleus\n",
        "  # Convert the mass defect to binding energy (E = Delta m * c^2)\n",
        "  bindingEnergy = massDefect*amutoMeV\n",
        "  return bindingEnergy"
      ],
      "metadata": {
        "id": "NhRIoaa17-je"
      },
      "execution_count": 13,
      "outputs": []
    },
    {
      "cell_type": "code",
      "source": [
        "# Number of protons and neutrons in Helium-4\n",
        "z = 2 # Number of protons\n",
        "n = 2 # Number of neutrons\n",
        "A = z+n"
      ],
      "metadata": {
        "id": "lIJwMuT88nCQ"
      },
      "execution_count": 14,
      "outputs": []
    },
    {
      "cell_type": "code",
      "source": [
        "# Calculate binding energy for Helium-4\n",
        "bindingEnergy = CalculateBindingEnergy(z,n,massAlpha)\n",
        "massExcessMEV = CalculateSimpleMassExcess(massAlpha,A)"
      ],
      "metadata": {
        "id": "YDwIvR1t8xeG"
      },
      "execution_count": 15,
      "outputs": []
    },
    {
      "cell_type": "code",
      "source": [
        "print(f\"Binding Energy for Helium-4: {bindingEnergy} MeV\")\n",
        "print(f\"Mass Excess: {massExcessMEV} MeV\")"
      ],
      "metadata": {
        "colab": {
          "base_uri": "https://localhost:8080/"
        },
        "id": "C7Y0umAD8-xK",
        "outputId": "eada1c4c-ae0d-4f17-948f-ed9bfc9684c5"
      },
      "execution_count": 16,
      "outputs": [
        {
          "output_type": "stream",
          "name": "stdout",
          "text": [
            "Binding Energy for Helium-4: 27.273689167812634 MeV\n",
            "Mass Excess: 2.4249156212003693 MeV\n"
          ]
        }
      ]
    },
    {
      "cell_type": "markdown",
      "source": [
        "# Visualising Binding Energy"
      ],
      "metadata": {
        "id": "VkFqgdO5-oT1"
      }
    },
    {
      "cell_type": "code",
      "source": [
        "from google.colab import drive\n",
        "drive.mount(\"/content/driveFiles\")"
      ],
      "metadata": {
        "colab": {
          "base_uri": "https://localhost:8080/"
        },
        "id": "E-9rZUud9Gv4",
        "outputId": "f46d55da-0fb7-47b6-bf74-678b7e601e00"
      },
      "execution_count": 19,
      "outputs": [
        {
          "output_type": "stream",
          "name": "stdout",
          "text": [
            "Mounted at /content/driveFiles\n"
          ]
        }
      ]
    },
    {
      "cell_type": "markdown",
      "source": [
        "for real data: https://drive.google.com/file/d/1bswvo625BUlQJKqvyp8lKepeqppBmUGj/view?usp=sharing"
      ],
      "metadata": {
        "id": "LkoMDv1ldiT7"
      }
    },
    {
      "cell_type": "code",
      "source": [
        "dataPath = \"/content/driveFiles/MyDrive/Astronomy/Project Data/csv_file/atomic_data/mass16Abundant.csv\""
      ],
      "metadata": {
        "id": "scjwLtokczAj"
      },
      "execution_count": 21,
      "outputs": []
    },
    {
      "cell_type": "code",
      "source": [
        "data = pd.read_csv(dataPath)"
      ],
      "metadata": {
        "id": "p0zVBQfwdeAr"
      },
      "execution_count": 22,
      "outputs": []
    },
    {
      "cell_type": "code",
      "source": [
        "data.info()"
      ],
      "metadata": {
        "colab": {
          "base_uri": "https://localhost:8080/"
        },
        "id": "PpsfgB5Cdn3t",
        "outputId": "23e8ae5f-f66e-4d03-bac0-e113cc5dd24a"
      },
      "execution_count": 25,
      "outputs": [
        {
          "output_type": "stream",
          "name": "stdout",
          "text": [
            "<class 'pandas.core.frame.DataFrame'>\n",
            "RangeIndex: 100 entries, 0 to 99\n",
            "Data columns (total 11 columns):\n",
            " #   Column                      Non-Null Count  Dtype  \n",
            "---  ------                      --------------  -----  \n",
            " 0   N-Z                         100 non-null    int64  \n",
            " 1   N                           100 non-null    int64  \n",
            " 2   Z                           100 non-null    int64  \n",
            " 3   A                           100 non-null    int64  \n",
            " 4   EL                          100 non-null    object \n",
            " 5   MASS EXCESS (keV)           100 non-null    float64\n",
            " 6   MASS EXCESS ERROR (keV)     100 non-null    float64\n",
            " 7   BINDING ENERGY (keV)        100 non-null    float64\n",
            " 8   BINDING ENERGY ERROR (keV)  100 non-null    float64\n",
            " 9   ATOMIC MASS (u)             100 non-null    float64\n",
            " 10  ATOMIC MASS ERROR(u)        100 non-null    float64\n",
            "dtypes: float64(6), int64(4), object(1)\n",
            "memory usage: 8.7+ KB\n"
          ]
        }
      ]
    },
    {
      "cell_type": "code",
      "source": [
        "data.describe().T"
      ],
      "metadata": {
        "colab": {
          "base_uri": "https://localhost:8080/",
          "height": 554
        },
        "id": "606rdDaudsBV",
        "outputId": "00c01f57-9cca-47cf-906f-da8c617cac66"
      },
      "execution_count": 28,
      "outputs": [
        {
          "output_type": "execute_result",
          "data": {
            "text/plain": [
              "                            count          mean           std           min  \\\n",
              "N-Z                         100.0     22.040000     18.445618     -1.000000   \n",
              "N                           100.0     72.540000     47.233018      0.000000   \n",
              "Z                           100.0     50.500000     29.011492      1.000000   \n",
              "A                           100.0    123.040000     76.190606      1.000000   \n",
              "MASS EXCESS (keV)           100.0 -37903.868022  47784.451109 -91098.369000   \n",
              "MASS EXCESS ERROR (keV)     100.0      1.561318      5.061489      0.000000   \n",
              "BINDING ENERGY (keV)        100.0   8079.824300    979.894235      0.000000   \n",
              "BINDING ENERGY ERROR (keV)  100.0      0.009240      0.020569      0.000000   \n",
              "ATOMIC MASS (u)             100.0    122.999309     76.208300      1.007825   \n",
              "ATOMIC MASS ERROR(u)        100.0      0.000002      0.000005      0.000000   \n",
              "\n",
              "                                     25%           50%          75%  \\\n",
              "N-Z                         4.000000e+00  1.950000e+01    37.500000   \n",
              "N                           3.000000e+01  7.000000e+01   113.000000   \n",
              "Z                           2.575000e+01  5.050000e+01    75.250000   \n",
              "A                           5.575000e+01  1.205000e+02   188.250000   \n",
              "MASS EXCESS (keV)          -8.149244e+04 -4.913603e+04 -8907.871998   \n",
              "MASS EXCESS ERROR (keV)     1.900000e-02  7.895000e-01     1.491500   \n",
              "BINDING ENERGY (keV)        7.844787e+03  8.252385e+03  8586.958750   \n",
              "BINDING ENERGY ERROR (keV)  1.000000e-03  6.000000e-03     0.010000   \n",
              "ATOMIC MASS (u)             5.568571e+01  1.204030e+02   188.207184   \n",
              "ATOMIC MASS ERROR(u)        2.000000e-08  8.470000e-07     0.000002   \n",
              "\n",
              "                                     max  \n",
              "N-Z                            57.000000  \n",
              "N                             157.000000  \n",
              "Z                             100.000000  \n",
              "A                             257.000000  \n",
              "MASS EXCESS (keV)           88590.033000  \n",
              "MASS EXCESS ERROR (keV)        50.056000  \n",
              "BINDING ENERGY (keV)         8790.354000  \n",
              "BINDING ENERGY ERROR (keV)      0.199000  \n",
              "ATOMIC MASS (u)               257.095105  \n",
              "ATOMIC MASS ERROR(u)            0.000054  "
            ],
            "text/html": [
              "\n",
              "  <div id=\"df-9170df3f-e46d-4859-8332-b7c18ea56d1d\" class=\"colab-df-container\">\n",
              "    <div>\n",
              "<style scoped>\n",
              "    .dataframe tbody tr th:only-of-type {\n",
              "        vertical-align: middle;\n",
              "    }\n",
              "\n",
              "    .dataframe tbody tr th {\n",
              "        vertical-align: top;\n",
              "    }\n",
              "\n",
              "    .dataframe thead th {\n",
              "        text-align: right;\n",
              "    }\n",
              "</style>\n",
              "<table border=\"1\" class=\"dataframe\">\n",
              "  <thead>\n",
              "    <tr style=\"text-align: right;\">\n",
              "      <th></th>\n",
              "      <th>count</th>\n",
              "      <th>mean</th>\n",
              "      <th>std</th>\n",
              "      <th>min</th>\n",
              "      <th>25%</th>\n",
              "      <th>50%</th>\n",
              "      <th>75%</th>\n",
              "      <th>max</th>\n",
              "    </tr>\n",
              "  </thead>\n",
              "  <tbody>\n",
              "    <tr>\n",
              "      <th>N-Z</th>\n",
              "      <td>100.0</td>\n",
              "      <td>22.040000</td>\n",
              "      <td>18.445618</td>\n",
              "      <td>-1.000000</td>\n",
              "      <td>4.000000e+00</td>\n",
              "      <td>1.950000e+01</td>\n",
              "      <td>37.500000</td>\n",
              "      <td>57.000000</td>\n",
              "    </tr>\n",
              "    <tr>\n",
              "      <th>N</th>\n",
              "      <td>100.0</td>\n",
              "      <td>72.540000</td>\n",
              "      <td>47.233018</td>\n",
              "      <td>0.000000</td>\n",
              "      <td>3.000000e+01</td>\n",
              "      <td>7.000000e+01</td>\n",
              "      <td>113.000000</td>\n",
              "      <td>157.000000</td>\n",
              "    </tr>\n",
              "    <tr>\n",
              "      <th>Z</th>\n",
              "      <td>100.0</td>\n",
              "      <td>50.500000</td>\n",
              "      <td>29.011492</td>\n",
              "      <td>1.000000</td>\n",
              "      <td>2.575000e+01</td>\n",
              "      <td>5.050000e+01</td>\n",
              "      <td>75.250000</td>\n",
              "      <td>100.000000</td>\n",
              "    </tr>\n",
              "    <tr>\n",
              "      <th>A</th>\n",
              "      <td>100.0</td>\n",
              "      <td>123.040000</td>\n",
              "      <td>76.190606</td>\n",
              "      <td>1.000000</td>\n",
              "      <td>5.575000e+01</td>\n",
              "      <td>1.205000e+02</td>\n",
              "      <td>188.250000</td>\n",
              "      <td>257.000000</td>\n",
              "    </tr>\n",
              "    <tr>\n",
              "      <th>MASS EXCESS (keV)</th>\n",
              "      <td>100.0</td>\n",
              "      <td>-37903.868022</td>\n",
              "      <td>47784.451109</td>\n",
              "      <td>-91098.369000</td>\n",
              "      <td>-8.149244e+04</td>\n",
              "      <td>-4.913603e+04</td>\n",
              "      <td>-8907.871998</td>\n",
              "      <td>88590.033000</td>\n",
              "    </tr>\n",
              "    <tr>\n",
              "      <th>MASS EXCESS ERROR (keV)</th>\n",
              "      <td>100.0</td>\n",
              "      <td>1.561318</td>\n",
              "      <td>5.061489</td>\n",
              "      <td>0.000000</td>\n",
              "      <td>1.900000e-02</td>\n",
              "      <td>7.895000e-01</td>\n",
              "      <td>1.491500</td>\n",
              "      <td>50.056000</td>\n",
              "    </tr>\n",
              "    <tr>\n",
              "      <th>BINDING ENERGY (keV)</th>\n",
              "      <td>100.0</td>\n",
              "      <td>8079.824300</td>\n",
              "      <td>979.894235</td>\n",
              "      <td>0.000000</td>\n",
              "      <td>7.844787e+03</td>\n",
              "      <td>8.252385e+03</td>\n",
              "      <td>8586.958750</td>\n",
              "      <td>8790.354000</td>\n",
              "    </tr>\n",
              "    <tr>\n",
              "      <th>BINDING ENERGY ERROR (keV)</th>\n",
              "      <td>100.0</td>\n",
              "      <td>0.009240</td>\n",
              "      <td>0.020569</td>\n",
              "      <td>0.000000</td>\n",
              "      <td>1.000000e-03</td>\n",
              "      <td>6.000000e-03</td>\n",
              "      <td>0.010000</td>\n",
              "      <td>0.199000</td>\n",
              "    </tr>\n",
              "    <tr>\n",
              "      <th>ATOMIC MASS (u)</th>\n",
              "      <td>100.0</td>\n",
              "      <td>122.999309</td>\n",
              "      <td>76.208300</td>\n",
              "      <td>1.007825</td>\n",
              "      <td>5.568571e+01</td>\n",
              "      <td>1.204030e+02</td>\n",
              "      <td>188.207184</td>\n",
              "      <td>257.095105</td>\n",
              "    </tr>\n",
              "    <tr>\n",
              "      <th>ATOMIC MASS ERROR(u)</th>\n",
              "      <td>100.0</td>\n",
              "      <td>0.000002</td>\n",
              "      <td>0.000005</td>\n",
              "      <td>0.000000</td>\n",
              "      <td>2.000000e-08</td>\n",
              "      <td>8.470000e-07</td>\n",
              "      <td>0.000002</td>\n",
              "      <td>0.000054</td>\n",
              "    </tr>\n",
              "  </tbody>\n",
              "</table>\n",
              "</div>\n",
              "    <div class=\"colab-df-buttons\">\n",
              "\n",
              "  <div class=\"colab-df-container\">\n",
              "    <button class=\"colab-df-convert\" onclick=\"convertToInteractive('df-9170df3f-e46d-4859-8332-b7c18ea56d1d')\"\n",
              "            title=\"Convert this dataframe to an interactive table.\"\n",
              "            style=\"display:none;\">\n",
              "\n",
              "  <svg xmlns=\"http://www.w3.org/2000/svg\" height=\"24px\" viewBox=\"0 -960 960 960\">\n",
              "    <path d=\"M120-120v-720h720v720H120Zm60-500h600v-160H180v160Zm220 220h160v-160H400v160Zm0 220h160v-160H400v160ZM180-400h160v-160H180v160Zm440 0h160v-160H620v160ZM180-180h160v-160H180v160Zm440 0h160v-160H620v160Z\"/>\n",
              "  </svg>\n",
              "    </button>\n",
              "\n",
              "  <style>\n",
              "    .colab-df-container {\n",
              "      display:flex;\n",
              "      gap: 12px;\n",
              "    }\n",
              "\n",
              "    .colab-df-convert {\n",
              "      background-color: #E8F0FE;\n",
              "      border: none;\n",
              "      border-radius: 50%;\n",
              "      cursor: pointer;\n",
              "      display: none;\n",
              "      fill: #1967D2;\n",
              "      height: 32px;\n",
              "      padding: 0 0 0 0;\n",
              "      width: 32px;\n",
              "    }\n",
              "\n",
              "    .colab-df-convert:hover {\n",
              "      background-color: #E2EBFA;\n",
              "      box-shadow: 0px 1px 2px rgba(60, 64, 67, 0.3), 0px 1px 3px 1px rgba(60, 64, 67, 0.15);\n",
              "      fill: #174EA6;\n",
              "    }\n",
              "\n",
              "    .colab-df-buttons div {\n",
              "      margin-bottom: 4px;\n",
              "    }\n",
              "\n",
              "    [theme=dark] .colab-df-convert {\n",
              "      background-color: #3B4455;\n",
              "      fill: #D2E3FC;\n",
              "    }\n",
              "\n",
              "    [theme=dark] .colab-df-convert:hover {\n",
              "      background-color: #434B5C;\n",
              "      box-shadow: 0px 1px 3px 1px rgba(0, 0, 0, 0.15);\n",
              "      filter: drop-shadow(0px 1px 2px rgba(0, 0, 0, 0.3));\n",
              "      fill: #FFFFFF;\n",
              "    }\n",
              "  </style>\n",
              "\n",
              "    <script>\n",
              "      const buttonEl =\n",
              "        document.querySelector('#df-9170df3f-e46d-4859-8332-b7c18ea56d1d button.colab-df-convert');\n",
              "      buttonEl.style.display =\n",
              "        google.colab.kernel.accessAllowed ? 'block' : 'none';\n",
              "\n",
              "      async function convertToInteractive(key) {\n",
              "        const element = document.querySelector('#df-9170df3f-e46d-4859-8332-b7c18ea56d1d');\n",
              "        const dataTable =\n",
              "          await google.colab.kernel.invokeFunction('convertToInteractive',\n",
              "                                                    [key], {});\n",
              "        if (!dataTable) return;\n",
              "\n",
              "        const docLinkHtml = 'Like what you see? Visit the ' +\n",
              "          '<a target=\"_blank\" href=https://colab.research.google.com/notebooks/data_table.ipynb>data table notebook</a>'\n",
              "          + ' to learn more about interactive tables.';\n",
              "        element.innerHTML = '';\n",
              "        dataTable['output_type'] = 'display_data';\n",
              "        await google.colab.output.renderOutput(dataTable, element);\n",
              "        const docLink = document.createElement('div');\n",
              "        docLink.innerHTML = docLinkHtml;\n",
              "        element.appendChild(docLink);\n",
              "      }\n",
              "    </script>\n",
              "  </div>\n",
              "\n",
              "\n",
              "<div id=\"df-70693f6a-5758-44b8-9f53-fb388cf358d2\">\n",
              "  <button class=\"colab-df-quickchart\" onclick=\"quickchart('df-70693f6a-5758-44b8-9f53-fb388cf358d2')\"\n",
              "            title=\"Suggest charts\"\n",
              "            style=\"display:none;\">\n",
              "\n",
              "<svg xmlns=\"http://www.w3.org/2000/svg\" height=\"24px\"viewBox=\"0 0 24 24\"\n",
              "     width=\"24px\">\n",
              "    <g>\n",
              "        <path d=\"M19 3H5c-1.1 0-2 .9-2 2v14c0 1.1.9 2 2 2h14c1.1 0 2-.9 2-2V5c0-1.1-.9-2-2-2zM9 17H7v-7h2v7zm4 0h-2V7h2v10zm4 0h-2v-4h2v4z\"/>\n",
              "    </g>\n",
              "</svg>\n",
              "  </button>\n",
              "\n",
              "<style>\n",
              "  .colab-df-quickchart {\n",
              "      --bg-color: #E8F0FE;\n",
              "      --fill-color: #1967D2;\n",
              "      --hover-bg-color: #E2EBFA;\n",
              "      --hover-fill-color: #174EA6;\n",
              "      --disabled-fill-color: #AAA;\n",
              "      --disabled-bg-color: #DDD;\n",
              "  }\n",
              "\n",
              "  [theme=dark] .colab-df-quickchart {\n",
              "      --bg-color: #3B4455;\n",
              "      --fill-color: #D2E3FC;\n",
              "      --hover-bg-color: #434B5C;\n",
              "      --hover-fill-color: #FFFFFF;\n",
              "      --disabled-bg-color: #3B4455;\n",
              "      --disabled-fill-color: #666;\n",
              "  }\n",
              "\n",
              "  .colab-df-quickchart {\n",
              "    background-color: var(--bg-color);\n",
              "    border: none;\n",
              "    border-radius: 50%;\n",
              "    cursor: pointer;\n",
              "    display: none;\n",
              "    fill: var(--fill-color);\n",
              "    height: 32px;\n",
              "    padding: 0;\n",
              "    width: 32px;\n",
              "  }\n",
              "\n",
              "  .colab-df-quickchart:hover {\n",
              "    background-color: var(--hover-bg-color);\n",
              "    box-shadow: 0 1px 2px rgba(60, 64, 67, 0.3), 0 1px 3px 1px rgba(60, 64, 67, 0.15);\n",
              "    fill: var(--button-hover-fill-color);\n",
              "  }\n",
              "\n",
              "  .colab-df-quickchart-complete:disabled,\n",
              "  .colab-df-quickchart-complete:disabled:hover {\n",
              "    background-color: var(--disabled-bg-color);\n",
              "    fill: var(--disabled-fill-color);\n",
              "    box-shadow: none;\n",
              "  }\n",
              "\n",
              "  .colab-df-spinner {\n",
              "    border: 2px solid var(--fill-color);\n",
              "    border-color: transparent;\n",
              "    border-bottom-color: var(--fill-color);\n",
              "    animation:\n",
              "      spin 1s steps(1) infinite;\n",
              "  }\n",
              "\n",
              "  @keyframes spin {\n",
              "    0% {\n",
              "      border-color: transparent;\n",
              "      border-bottom-color: var(--fill-color);\n",
              "      border-left-color: var(--fill-color);\n",
              "    }\n",
              "    20% {\n",
              "      border-color: transparent;\n",
              "      border-left-color: var(--fill-color);\n",
              "      border-top-color: var(--fill-color);\n",
              "    }\n",
              "    30% {\n",
              "      border-color: transparent;\n",
              "      border-left-color: var(--fill-color);\n",
              "      border-top-color: var(--fill-color);\n",
              "      border-right-color: var(--fill-color);\n",
              "    }\n",
              "    40% {\n",
              "      border-color: transparent;\n",
              "      border-right-color: var(--fill-color);\n",
              "      border-top-color: var(--fill-color);\n",
              "    }\n",
              "    60% {\n",
              "      border-color: transparent;\n",
              "      border-right-color: var(--fill-color);\n",
              "    }\n",
              "    80% {\n",
              "      border-color: transparent;\n",
              "      border-right-color: var(--fill-color);\n",
              "      border-bottom-color: var(--fill-color);\n",
              "    }\n",
              "    90% {\n",
              "      border-color: transparent;\n",
              "      border-bottom-color: var(--fill-color);\n",
              "    }\n",
              "  }\n",
              "</style>\n",
              "\n",
              "  <script>\n",
              "    async function quickchart(key) {\n",
              "      const quickchartButtonEl =\n",
              "        document.querySelector('#' + key + ' button');\n",
              "      quickchartButtonEl.disabled = true;  // To prevent multiple clicks.\n",
              "      quickchartButtonEl.classList.add('colab-df-spinner');\n",
              "      try {\n",
              "        const charts = await google.colab.kernel.invokeFunction(\n",
              "            'suggestCharts', [key], {});\n",
              "      } catch (error) {\n",
              "        console.error('Error during call to suggestCharts:', error);\n",
              "      }\n",
              "      quickchartButtonEl.classList.remove('colab-df-spinner');\n",
              "      quickchartButtonEl.classList.add('colab-df-quickchart-complete');\n",
              "    }\n",
              "    (() => {\n",
              "      let quickchartButtonEl =\n",
              "        document.querySelector('#df-70693f6a-5758-44b8-9f53-fb388cf358d2 button');\n",
              "      quickchartButtonEl.style.display =\n",
              "        google.colab.kernel.accessAllowed ? 'block' : 'none';\n",
              "    })();\n",
              "  </script>\n",
              "</div>\n",
              "    </div>\n",
              "  </div>\n"
            ]
          },
          "metadata": {},
          "execution_count": 28
        }
      ]
    },
    {
      "cell_type": "code",
      "source": [
        "len(data)"
      ],
      "metadata": {
        "colab": {
          "base_uri": "https://localhost:8080/"
        },
        "id": "CBkcuYmsf_N_",
        "outputId": "72194e23-d926-4a33-a6cb-d9efef580249"
      },
      "execution_count": 35,
      "outputs": [
        {
          "output_type": "execute_result",
          "data": {
            "text/plain": [
              "100"
            ]
          },
          "metadata": {},
          "execution_count": 35
        }
      ]
    },
    {
      "cell_type": "code",
      "source": [
        "data.head()"
      ],
      "metadata": {
        "colab": {
          "base_uri": "https://localhost:8080/",
          "height": 224
        },
        "id": "rYtUMlCneaei",
        "outputId": "d0a3c409-f0bf-4399-ceeb-37d4631ed9da"
      },
      "execution_count": 29,
      "outputs": [
        {
          "output_type": "execute_result",
          "data": {
            "text/plain": [
              "   N-Z  N  Z   A  EL  MASS EXCESS (keV)  MASS EXCESS ERROR (keV)  \\\n",
              "0   -1  0  1   1   H         7288.97061                  0.00009   \n",
              "1    0  2  2   4  He         2424.91561                  0.00006   \n",
              "2    1  4  3   7  Li        14907.10529                  0.00423   \n",
              "3    1  5  4   9  Be        11348.45300                  0.07700   \n",
              "4    1  6  5  11   B         8667.70700                  0.01200   \n",
              "\n",
              "   BINDING ENERGY (keV)  BINDING ENERGY ERROR (keV)  ATOMIC MASS (u)  \\\n",
              "0                 0.000                       0.000         1.007825   \n",
              "1              7073.915                       0.000         4.002603   \n",
              "2              5606.439                       0.001         7.016003   \n",
              "3              6462.668                       0.009         9.012183   \n",
              "4              6927.732                       0.001        11.009305   \n",
              "\n",
              "   ATOMIC MASS ERROR(u)  \n",
              "0          9.000000e-11  \n",
              "1          6.000000e-11  \n",
              "2          4.540000e-09  \n",
              "3          8.200000e-08  \n",
              "4          1.300000e-08  "
            ],
            "text/html": [
              "\n",
              "  <div id=\"df-97aaf651-8b3c-464f-85e1-7ea543d5a159\" class=\"colab-df-container\">\n",
              "    <div>\n",
              "<style scoped>\n",
              "    .dataframe tbody tr th:only-of-type {\n",
              "        vertical-align: middle;\n",
              "    }\n",
              "\n",
              "    .dataframe tbody tr th {\n",
              "        vertical-align: top;\n",
              "    }\n",
              "\n",
              "    .dataframe thead th {\n",
              "        text-align: right;\n",
              "    }\n",
              "</style>\n",
              "<table border=\"1\" class=\"dataframe\">\n",
              "  <thead>\n",
              "    <tr style=\"text-align: right;\">\n",
              "      <th></th>\n",
              "      <th>N-Z</th>\n",
              "      <th>N</th>\n",
              "      <th>Z</th>\n",
              "      <th>A</th>\n",
              "      <th>EL</th>\n",
              "      <th>MASS EXCESS (keV)</th>\n",
              "      <th>MASS EXCESS ERROR (keV)</th>\n",
              "      <th>BINDING ENERGY (keV)</th>\n",
              "      <th>BINDING ENERGY ERROR (keV)</th>\n",
              "      <th>ATOMIC MASS (u)</th>\n",
              "      <th>ATOMIC MASS ERROR(u)</th>\n",
              "    </tr>\n",
              "  </thead>\n",
              "  <tbody>\n",
              "    <tr>\n",
              "      <th>0</th>\n",
              "      <td>-1</td>\n",
              "      <td>0</td>\n",
              "      <td>1</td>\n",
              "      <td>1</td>\n",
              "      <td>H</td>\n",
              "      <td>7288.97061</td>\n",
              "      <td>0.00009</td>\n",
              "      <td>0.000</td>\n",
              "      <td>0.000</td>\n",
              "      <td>1.007825</td>\n",
              "      <td>9.000000e-11</td>\n",
              "    </tr>\n",
              "    <tr>\n",
              "      <th>1</th>\n",
              "      <td>0</td>\n",
              "      <td>2</td>\n",
              "      <td>2</td>\n",
              "      <td>4</td>\n",
              "      <td>He</td>\n",
              "      <td>2424.91561</td>\n",
              "      <td>0.00006</td>\n",
              "      <td>7073.915</td>\n",
              "      <td>0.000</td>\n",
              "      <td>4.002603</td>\n",
              "      <td>6.000000e-11</td>\n",
              "    </tr>\n",
              "    <tr>\n",
              "      <th>2</th>\n",
              "      <td>1</td>\n",
              "      <td>4</td>\n",
              "      <td>3</td>\n",
              "      <td>7</td>\n",
              "      <td>Li</td>\n",
              "      <td>14907.10529</td>\n",
              "      <td>0.00423</td>\n",
              "      <td>5606.439</td>\n",
              "      <td>0.001</td>\n",
              "      <td>7.016003</td>\n",
              "      <td>4.540000e-09</td>\n",
              "    </tr>\n",
              "    <tr>\n",
              "      <th>3</th>\n",
              "      <td>1</td>\n",
              "      <td>5</td>\n",
              "      <td>4</td>\n",
              "      <td>9</td>\n",
              "      <td>Be</td>\n",
              "      <td>11348.45300</td>\n",
              "      <td>0.07700</td>\n",
              "      <td>6462.668</td>\n",
              "      <td>0.009</td>\n",
              "      <td>9.012183</td>\n",
              "      <td>8.200000e-08</td>\n",
              "    </tr>\n",
              "    <tr>\n",
              "      <th>4</th>\n",
              "      <td>1</td>\n",
              "      <td>6</td>\n",
              "      <td>5</td>\n",
              "      <td>11</td>\n",
              "      <td>B</td>\n",
              "      <td>8667.70700</td>\n",
              "      <td>0.01200</td>\n",
              "      <td>6927.732</td>\n",
              "      <td>0.001</td>\n",
              "      <td>11.009305</td>\n",
              "      <td>1.300000e-08</td>\n",
              "    </tr>\n",
              "  </tbody>\n",
              "</table>\n",
              "</div>\n",
              "    <div class=\"colab-df-buttons\">\n",
              "\n",
              "  <div class=\"colab-df-container\">\n",
              "    <button class=\"colab-df-convert\" onclick=\"convertToInteractive('df-97aaf651-8b3c-464f-85e1-7ea543d5a159')\"\n",
              "            title=\"Convert this dataframe to an interactive table.\"\n",
              "            style=\"display:none;\">\n",
              "\n",
              "  <svg xmlns=\"http://www.w3.org/2000/svg\" height=\"24px\" viewBox=\"0 -960 960 960\">\n",
              "    <path d=\"M120-120v-720h720v720H120Zm60-500h600v-160H180v160Zm220 220h160v-160H400v160Zm0 220h160v-160H400v160ZM180-400h160v-160H180v160Zm440 0h160v-160H620v160ZM180-180h160v-160H180v160Zm440 0h160v-160H620v160Z\"/>\n",
              "  </svg>\n",
              "    </button>\n",
              "\n",
              "  <style>\n",
              "    .colab-df-container {\n",
              "      display:flex;\n",
              "      gap: 12px;\n",
              "    }\n",
              "\n",
              "    .colab-df-convert {\n",
              "      background-color: #E8F0FE;\n",
              "      border: none;\n",
              "      border-radius: 50%;\n",
              "      cursor: pointer;\n",
              "      display: none;\n",
              "      fill: #1967D2;\n",
              "      height: 32px;\n",
              "      padding: 0 0 0 0;\n",
              "      width: 32px;\n",
              "    }\n",
              "\n",
              "    .colab-df-convert:hover {\n",
              "      background-color: #E2EBFA;\n",
              "      box-shadow: 0px 1px 2px rgba(60, 64, 67, 0.3), 0px 1px 3px 1px rgba(60, 64, 67, 0.15);\n",
              "      fill: #174EA6;\n",
              "    }\n",
              "\n",
              "    .colab-df-buttons div {\n",
              "      margin-bottom: 4px;\n",
              "    }\n",
              "\n",
              "    [theme=dark] .colab-df-convert {\n",
              "      background-color: #3B4455;\n",
              "      fill: #D2E3FC;\n",
              "    }\n",
              "\n",
              "    [theme=dark] .colab-df-convert:hover {\n",
              "      background-color: #434B5C;\n",
              "      box-shadow: 0px 1px 3px 1px rgba(0, 0, 0, 0.15);\n",
              "      filter: drop-shadow(0px 1px 2px rgba(0, 0, 0, 0.3));\n",
              "      fill: #FFFFFF;\n",
              "    }\n",
              "  </style>\n",
              "\n",
              "    <script>\n",
              "      const buttonEl =\n",
              "        document.querySelector('#df-97aaf651-8b3c-464f-85e1-7ea543d5a159 button.colab-df-convert');\n",
              "      buttonEl.style.display =\n",
              "        google.colab.kernel.accessAllowed ? 'block' : 'none';\n",
              "\n",
              "      async function convertToInteractive(key) {\n",
              "        const element = document.querySelector('#df-97aaf651-8b3c-464f-85e1-7ea543d5a159');\n",
              "        const dataTable =\n",
              "          await google.colab.kernel.invokeFunction('convertToInteractive',\n",
              "                                                    [key], {});\n",
              "        if (!dataTable) return;\n",
              "\n",
              "        const docLinkHtml = 'Like what you see? Visit the ' +\n",
              "          '<a target=\"_blank\" href=https://colab.research.google.com/notebooks/data_table.ipynb>data table notebook</a>'\n",
              "          + ' to learn more about interactive tables.';\n",
              "        element.innerHTML = '';\n",
              "        dataTable['output_type'] = 'display_data';\n",
              "        await google.colab.output.renderOutput(dataTable, element);\n",
              "        const docLink = document.createElement('div');\n",
              "        docLink.innerHTML = docLinkHtml;\n",
              "        element.appendChild(docLink);\n",
              "      }\n",
              "    </script>\n",
              "  </div>\n",
              "\n",
              "\n",
              "<div id=\"df-bd1005aa-cf5c-441f-9334-8744e2208ab3\">\n",
              "  <button class=\"colab-df-quickchart\" onclick=\"quickchart('df-bd1005aa-cf5c-441f-9334-8744e2208ab3')\"\n",
              "            title=\"Suggest charts\"\n",
              "            style=\"display:none;\">\n",
              "\n",
              "<svg xmlns=\"http://www.w3.org/2000/svg\" height=\"24px\"viewBox=\"0 0 24 24\"\n",
              "     width=\"24px\">\n",
              "    <g>\n",
              "        <path d=\"M19 3H5c-1.1 0-2 .9-2 2v14c0 1.1.9 2 2 2h14c1.1 0 2-.9 2-2V5c0-1.1-.9-2-2-2zM9 17H7v-7h2v7zm4 0h-2V7h2v10zm4 0h-2v-4h2v4z\"/>\n",
              "    </g>\n",
              "</svg>\n",
              "  </button>\n",
              "\n",
              "<style>\n",
              "  .colab-df-quickchart {\n",
              "      --bg-color: #E8F0FE;\n",
              "      --fill-color: #1967D2;\n",
              "      --hover-bg-color: #E2EBFA;\n",
              "      --hover-fill-color: #174EA6;\n",
              "      --disabled-fill-color: #AAA;\n",
              "      --disabled-bg-color: #DDD;\n",
              "  }\n",
              "\n",
              "  [theme=dark] .colab-df-quickchart {\n",
              "      --bg-color: #3B4455;\n",
              "      --fill-color: #D2E3FC;\n",
              "      --hover-bg-color: #434B5C;\n",
              "      --hover-fill-color: #FFFFFF;\n",
              "      --disabled-bg-color: #3B4455;\n",
              "      --disabled-fill-color: #666;\n",
              "  }\n",
              "\n",
              "  .colab-df-quickchart {\n",
              "    background-color: var(--bg-color);\n",
              "    border: none;\n",
              "    border-radius: 50%;\n",
              "    cursor: pointer;\n",
              "    display: none;\n",
              "    fill: var(--fill-color);\n",
              "    height: 32px;\n",
              "    padding: 0;\n",
              "    width: 32px;\n",
              "  }\n",
              "\n",
              "  .colab-df-quickchart:hover {\n",
              "    background-color: var(--hover-bg-color);\n",
              "    box-shadow: 0 1px 2px rgba(60, 64, 67, 0.3), 0 1px 3px 1px rgba(60, 64, 67, 0.15);\n",
              "    fill: var(--button-hover-fill-color);\n",
              "  }\n",
              "\n",
              "  .colab-df-quickchart-complete:disabled,\n",
              "  .colab-df-quickchart-complete:disabled:hover {\n",
              "    background-color: var(--disabled-bg-color);\n",
              "    fill: var(--disabled-fill-color);\n",
              "    box-shadow: none;\n",
              "  }\n",
              "\n",
              "  .colab-df-spinner {\n",
              "    border: 2px solid var(--fill-color);\n",
              "    border-color: transparent;\n",
              "    border-bottom-color: var(--fill-color);\n",
              "    animation:\n",
              "      spin 1s steps(1) infinite;\n",
              "  }\n",
              "\n",
              "  @keyframes spin {\n",
              "    0% {\n",
              "      border-color: transparent;\n",
              "      border-bottom-color: var(--fill-color);\n",
              "      border-left-color: var(--fill-color);\n",
              "    }\n",
              "    20% {\n",
              "      border-color: transparent;\n",
              "      border-left-color: var(--fill-color);\n",
              "      border-top-color: var(--fill-color);\n",
              "    }\n",
              "    30% {\n",
              "      border-color: transparent;\n",
              "      border-left-color: var(--fill-color);\n",
              "      border-top-color: var(--fill-color);\n",
              "      border-right-color: var(--fill-color);\n",
              "    }\n",
              "    40% {\n",
              "      border-color: transparent;\n",
              "      border-right-color: var(--fill-color);\n",
              "      border-top-color: var(--fill-color);\n",
              "    }\n",
              "    60% {\n",
              "      border-color: transparent;\n",
              "      border-right-color: var(--fill-color);\n",
              "    }\n",
              "    80% {\n",
              "      border-color: transparent;\n",
              "      border-right-color: var(--fill-color);\n",
              "      border-bottom-color: var(--fill-color);\n",
              "    }\n",
              "    90% {\n",
              "      border-color: transparent;\n",
              "      border-bottom-color: var(--fill-color);\n",
              "    }\n",
              "  }\n",
              "</style>\n",
              "\n",
              "  <script>\n",
              "    async function quickchart(key) {\n",
              "      const quickchartButtonEl =\n",
              "        document.querySelector('#' + key + ' button');\n",
              "      quickchartButtonEl.disabled = true;  // To prevent multiple clicks.\n",
              "      quickchartButtonEl.classList.add('colab-df-spinner');\n",
              "      try {\n",
              "        const charts = await google.colab.kernel.invokeFunction(\n",
              "            'suggestCharts', [key], {});\n",
              "      } catch (error) {\n",
              "        console.error('Error during call to suggestCharts:', error);\n",
              "      }\n",
              "      quickchartButtonEl.classList.remove('colab-df-spinner');\n",
              "      quickchartButtonEl.classList.add('colab-df-quickchart-complete');\n",
              "    }\n",
              "    (() => {\n",
              "      let quickchartButtonEl =\n",
              "        document.querySelector('#df-bd1005aa-cf5c-441f-9334-8744e2208ab3 button');\n",
              "      quickchartButtonEl.style.display =\n",
              "        google.colab.kernel.accessAllowed ? 'block' : 'none';\n",
              "    })();\n",
              "  </script>\n",
              "</div>\n",
              "    </div>\n",
              "  </div>\n"
            ]
          },
          "metadata": {},
          "execution_count": 29
        }
      ]
    },
    {
      "cell_type": "code",
      "source": [
        "numberOfProton = data[\"Z\"].values\n",
        "nucleonMass = data[\"A\"].values\n",
        "bindingEnergy = data[\"BINDING ENERGY (keV)\"].values"
      ],
      "metadata": {
        "id": "8Ynzlaf_ePFl"
      },
      "execution_count": 31,
      "outputs": []
    },
    {
      "cell_type": "code",
      "source": [
        "figure = plt.figure(1,figsize=(5,5))\n",
        "plt.xlabel(\"Z(Number of Proton)\")\n",
        "plt.ylabel(\"B/A (KeV/Nucleon)\")\n",
        "plt.scatter(numberOfProton,bindingEnergy,s=2,c=\"red\")\n",
        "plt.tight_layout()\n",
        "plt.show()"
      ],
      "metadata": {
        "colab": {
          "base_uri": "https://localhost:8080/",
          "height": 507
        },
        "id": "2trZWyMMduVp",
        "outputId": "0e9b0b89-c40c-461e-eb1c-65f71647cad3"
      },
      "execution_count": 34,
      "outputs": [
        {
          "output_type": "display_data",
          "data": {
            "text/plain": [
              "<Figure size 500x500 with 1 Axes>"
            ],
            "image/png": "[encoded data removed]"
          },
          "metadata": {}
        }
      ]
    },
    {
      "cell_type": "code",
      "source": [
        "plt.figure(figsize=(8,8))\n",
        "plt.hist(data[\"ATOMIC MASS (u)\"],bins=30,alpha=0.6,color=\"red\")\n",
        "plt.xlabel(\"Atomic Mass(u)\")\n",
        "plt.ylabel(\"Frequency\")\n",
        "plt.title(\"Mass Distribution\")\n",
        "plt.grid(True)\n",
        "plt.show()"
      ],
      "metadata": {
        "colab": {
          "base_uri": "https://localhost:8080/",
          "height": 718
        },
        "id": "Rwvh9WuseylZ",
        "outputId": "58fb873e-c517-4b1a-bd14-052c8979b4d2"
      },
      "execution_count": 36,
      "outputs": [
        {
          "output_type": "display_data",
          "data": {
            "text/plain": [
              "<Figure size 800x800 with 1 Axes>"
            ],
            "image/png": "[encoded data removed]"
          },
          "metadata": {}
        }
      ]
    },
    {
      "cell_type": "markdown",
      "source": [
        "**The main fusion reaction in stars like the Sun is the proton-proton (p-p) chain reaction. This reaction involves several steps where hydrogen nuclei (protons) fuse to form helium. The most basic form of this reaction can be summarized in three key steps, eventually resulting in the formation of a helium-4 nucleus from four protons.**\n",
        "\n",
        "* Proton-Proton Chain Reaction:\n",
        "\n",
        "  **Two protons fuse to form deuterium:**\n",
        "\n",
        "  > $1 \\text{H} + 1 \\text{H} \\rightarrow 2 \\text{H} + e^+ + \\nu_e + 0.42 \\text{MeV}$\n",
        "\n",
        "  **Deuterium fuses with another proton to form helium-3:**\n",
        "\n",
        "  > $2 \\text{H} + 1 \\text{H} \\rightarrow 3 \\text{He} + \\gamma + 5.49 \\text{MeV}$ , where $\\gamma$: Gamma ray, a form of electromagnetic radiation\n",
        "\n",
        "  **Two helium-3 nuclei fuse to form helium-4, releasing two protons:**\n",
        "\n",
        "  > $3 \\text{He} + 3 \\text{He} \\rightarrow 4 \\text{He} + 1 \\text{H} + 1 \\text{H} + 12.86 \\text{MeV}$\n",
        "\n",
        "\n",
        "* The main fusion reaction in the sun is the following:\n",
        "> $4{^{1.0078}_{1}H^{+}}\\rightarrow{^{4.0026}_{2}He^{2+}}+2e^{+}+2\\nu_{e}$\n",
        "\n",
        "  where:\n",
        "\n",
        "  $H^{+}$: hydrogen nucleus (a proton)\n",
        "\n",
        "  $^{4.0026}_{2}He^{2+}$: a Helium nucleus\n",
        "\n",
        "  $e^{+}$: a positron\n",
        "\n",
        "  $\\nu_{e}$: electron neutrino\n",
        "\n",
        "* We can use this equation to calculate Q-value for reaction. The Q-value is typically expressed in energy units like mega-electronvolts (MeV). To calculate the Q-value of a nuclear reaction:\n",
        "\n",
        "> $Q = (\\text{Mass of reactants} - \\text{Mass of products}) \\times c^2$\n",
        "\n",
        "> $Q/c^2 = 4 \\Delta{^{1.0078}_{1}H^{+}}-\\Delta{^{4.0026}_{2}He^{2+}}-4m_e$\n",
        "\n",
        "  - **Positive Q-value**: Indicates an exothermic reaction, where energy is released. Most nuclear fusion and fission reactions have positive Q-values, meaning they release energy.\n",
        "  - **Negative Q-value**: Represents an endothermic reaction, where energy is absorbed.\n",
        "\n",
        "\n"
      ],
      "metadata": {
        "id": "0kna5fDKhVfO"
      }
    },
    {
      "cell_type": "code",
      "source": [
        "massElectrons = 511 #KeV, 2 mass of electrons from Helium and 2 mass of electrons from positrons"
      ],
      "metadata": {
        "id": "pQNuj81XgXki"
      },
      "execution_count": 37,
      "outputs": []
    },
    {
      "cell_type": "code",
      "source": [
        "data.head()"
      ],
      "metadata": {
        "colab": {
          "base_uri": "https://localhost:8080/",
          "height": 224
        },
        "id": "wcxuaYjOmn2z",
        "outputId": "7f1fdf5c-cff9-490a-d9fe-ed4eee813970"
      },
      "execution_count": 40,
      "outputs": [
        {
          "output_type": "execute_result",
          "data": {
            "text/plain": [
              "   N-Z  N  Z   A  EL  MASS EXCESS (keV)  MASS EXCESS ERROR (keV)  \\\n",
              "0   -1  0  1   1   H         7288.97061                  0.00009   \n",
              "1    0  2  2   4  He         2424.91561                  0.00006   \n",
              "2    1  4  3   7  Li        14907.10529                  0.00423   \n",
              "3    1  5  4   9  Be        11348.45300                  0.07700   \n",
              "4    1  6  5  11   B         8667.70700                  0.01200   \n",
              "\n",
              "   BINDING ENERGY (keV)  BINDING ENERGY ERROR (keV)  ATOMIC MASS (u)  \\\n",
              "0                 0.000                       0.000         1.007825   \n",
              "1              7073.915                       0.000         4.002603   \n",
              "2              5606.439                       0.001         7.016003   \n",
              "3              6462.668                       0.009         9.012183   \n",
              "4              6927.732                       0.001        11.009305   \n",
              "\n",
              "   ATOMIC MASS ERROR(u)  \n",
              "0          9.000000e-11  \n",
              "1          6.000000e-11  \n",
              "2          4.540000e-09  \n",
              "3          8.200000e-08  \n",
              "4          1.300000e-08  "
            ],
            "text/html": [
              "\n",
              "  <div id=\"df-cc59b797-9e43-4764-a81d-56a1606e4c5d\" class=\"colab-df-container\">\n",
              "    <div>\n",
              "<style scoped>\n",
              "    .dataframe tbody tr th:only-of-type {\n",
              "        vertical-align: middle;\n",
              "    }\n",
              "\n",
              "    .dataframe tbody tr th {\n",
              "        vertical-align: top;\n",
              "    }\n",
              "\n",
              "    .dataframe thead th {\n",
              "        text-align: right;\n",
              "    }\n",
              "</style>\n",
              "<table border=\"1\" class=\"dataframe\">\n",
              "  <thead>\n",
              "    <tr style=\"text-align: right;\">\n",
              "      <th></th>\n",
              "      <th>N-Z</th>\n",
              "      <th>N</th>\n",
              "      <th>Z</th>\n",
              "      <th>A</th>\n",
              "      <th>EL</th>\n",
              "      <th>MASS EXCESS (keV)</th>\n",
              "      <th>MASS EXCESS ERROR (keV)</th>\n",
              "      <th>BINDING ENERGY (keV)</th>\n",
              "      <th>BINDING ENERGY ERROR (keV)</th>\n",
              "      <th>ATOMIC MASS (u)</th>\n",
              "      <th>ATOMIC MASS ERROR(u)</th>\n",
              "    </tr>\n",
              "  </thead>\n",
              "  <tbody>\n",
              "    <tr>\n",
              "      <th>0</th>\n",
              "      <td>-1</td>\n",
              "      <td>0</td>\n",
              "      <td>1</td>\n",
              "      <td>1</td>\n",
              "      <td>H</td>\n",
              "      <td>7288.97061</td>\n",
              "      <td>0.00009</td>\n",
              "      <td>0.000</td>\n",
              "      <td>0.000</td>\n",
              "      <td>1.007825</td>\n",
              "      <td>9.000000e-11</td>\n",
              "    </tr>\n",
              "    <tr>\n",
              "      <th>1</th>\n",
              "      <td>0</td>\n",
              "      <td>2</td>\n",
              "      <td>2</td>\n",
              "      <td>4</td>\n",
              "      <td>He</td>\n",
              "      <td>2424.91561</td>\n",
              "      <td>0.00006</td>\n",
              "      <td>7073.915</td>\n",
              "      <td>0.000</td>\n",
              "      <td>4.002603</td>\n",
              "      <td>6.000000e-11</td>\n",
              "    </tr>\n",
              "    <tr>\n",
              "      <th>2</th>\n",
              "      <td>1</td>\n",
              "      <td>4</td>\n",
              "      <td>3</td>\n",
              "      <td>7</td>\n",
              "      <td>Li</td>\n",
              "      <td>14907.10529</td>\n",
              "      <td>0.00423</td>\n",
              "      <td>5606.439</td>\n",
              "      <td>0.001</td>\n",
              "      <td>7.016003</td>\n",
              "      <td>4.540000e-09</td>\n",
              "    </tr>\n",
              "    <tr>\n",
              "      <th>3</th>\n",
              "      <td>1</td>\n",
              "      <td>5</td>\n",
              "      <td>4</td>\n",
              "      <td>9</td>\n",
              "      <td>Be</td>\n",
              "      <td>11348.45300</td>\n",
              "      <td>0.07700</td>\n",
              "      <td>6462.668</td>\n",
              "      <td>0.009</td>\n",
              "      <td>9.012183</td>\n",
              "      <td>8.200000e-08</td>\n",
              "    </tr>\n",
              "    <tr>\n",
              "      <th>4</th>\n",
              "      <td>1</td>\n",
              "      <td>6</td>\n",
              "      <td>5</td>\n",
              "      <td>11</td>\n",
              "      <td>B</td>\n",
              "      <td>8667.70700</td>\n",
              "      <td>0.01200</td>\n",
              "      <td>6927.732</td>\n",
              "      <td>0.001</td>\n",
              "      <td>11.009305</td>\n",
              "      <td>1.300000e-08</td>\n",
              "    </tr>\n",
              "  </tbody>\n",
              "</table>\n",
              "</div>\n",
              "    <div class=\"colab-df-buttons\">\n",
              "\n",
              "  <div class=\"colab-df-container\">\n",
              "    <button class=\"colab-df-convert\" onclick=\"convertToInteractive('df-cc59b797-9e43-4764-a81d-56a1606e4c5d')\"\n",
              "            title=\"Convert this dataframe to an interactive table.\"\n",
              "            style=\"display:none;\">\n",
              "\n",
              "  <svg xmlns=\"http://www.w3.org/2000/svg\" height=\"24px\" viewBox=\"0 -960 960 960\">\n",
              "    <path d=\"M120-120v-720h720v720H120Zm60-500h600v-160H180v160Zm220 220h160v-160H400v160Zm0 220h160v-160H400v160ZM180-400h160v-160H180v160Zm440 0h160v-160H620v160ZM180-180h160v-160H180v160Zm440 0h160v-160H620v160Z\"/>\n",
              "  </svg>\n",
              "    </button>\n",
              "\n",
              "  <style>\n",
              "    .colab-df-container {\n",
              "      display:flex;\n",
              "      gap: 12px;\n",
              "    }\n",
              "\n",
              "    .colab-df-convert {\n",
              "      background-color: #E8F0FE;\n",
              "      border: none;\n",
              "      border-radius: 50%;\n",
              "      cursor: pointer;\n",
              "      display: none;\n",
              "      fill: #1967D2;\n",
              "      height: 32px;\n",
              "      padding: 0 0 0 0;\n",
              "      width: 32px;\n",
              "    }\n",
              "\n",
              "    .colab-df-convert:hover {\n",
              "      background-color: #E2EBFA;\n",
              "      box-shadow: 0px 1px 2px rgba(60, 64, 67, 0.3), 0px 1px 3px 1px rgba(60, 64, 67, 0.15);\n",
              "      fill: #174EA6;\n",
              "    }\n",
              "\n",
              "    .colab-df-buttons div {\n",
              "      margin-bottom: 4px;\n",
              "    }\n",
              "\n",
              "    [theme=dark] .colab-df-convert {\n",
              "      background-color: #3B4455;\n",
              "      fill: #D2E3FC;\n",
              "    }\n",
              "\n",
              "    [theme=dark] .colab-df-convert:hover {\n",
              "      background-color: #434B5C;\n",
              "      box-shadow: 0px 1px 3px 1px rgba(0, 0, 0, 0.15);\n",
              "      filter: drop-shadow(0px 1px 2px rgba(0, 0, 0, 0.3));\n",
              "      fill: #FFFFFF;\n",
              "    }\n",
              "  </style>\n",
              "\n",
              "    <script>\n",
              "      const buttonEl =\n",
              "        document.querySelector('#df-cc59b797-9e43-4764-a81d-56a1606e4c5d button.colab-df-convert');\n",
              "      buttonEl.style.display =\n",
              "        google.colab.kernel.accessAllowed ? 'block' : 'none';\n",
              "\n",
              "      async function convertToInteractive(key) {\n",
              "        const element = document.querySelector('#df-cc59b797-9e43-4764-a81d-56a1606e4c5d');\n",
              "        const dataTable =\n",
              "          await google.colab.kernel.invokeFunction('convertToInteractive',\n",
              "                                                    [key], {});\n",
              "        if (!dataTable) return;\n",
              "\n",
              "        const docLinkHtml = 'Like what you see? Visit the ' +\n",
              "          '<a target=\"_blank\" href=https://colab.research.google.com/notebooks/data_table.ipynb>data table notebook</a>'\n",
              "          + ' to learn more about interactive tables.';\n",
              "        element.innerHTML = '';\n",
              "        dataTable['output_type'] = 'display_data';\n",
              "        await google.colab.output.renderOutput(dataTable, element);\n",
              "        const docLink = document.createElement('div');\n",
              "        docLink.innerHTML = docLinkHtml;\n",
              "        element.appendChild(docLink);\n",
              "      }\n",
              "    </script>\n",
              "  </div>\n",
              "\n",
              "\n",
              "<div id=\"df-6be1f17d-5137-4ecd-9a94-5edcafe1e359\">\n",
              "  <button class=\"colab-df-quickchart\" onclick=\"quickchart('df-6be1f17d-5137-4ecd-9a94-5edcafe1e359')\"\n",
              "            title=\"Suggest charts\"\n",
              "            style=\"display:none;\">\n",
              "\n",
              "<svg xmlns=\"http://www.w3.org/2000/svg\" height=\"24px\"viewBox=\"0 0 24 24\"\n",
              "     width=\"24px\">\n",
              "    <g>\n",
              "        <path d=\"M19 3H5c-1.1 0-2 .9-2 2v14c0 1.1.9 2 2 2h14c1.1 0 2-.9 2-2V5c0-1.1-.9-2-2-2zM9 17H7v-7h2v7zm4 0h-2V7h2v10zm4 0h-2v-4h2v4z\"/>\n",
              "    </g>\n",
              "</svg>\n",
              "  </button>\n",
              "\n",
              "<style>\n",
              "  .colab-df-quickchart {\n",
              "      --bg-color: #E8F0FE;\n",
              "      --fill-color: #1967D2;\n",
              "      --hover-bg-color: #E2EBFA;\n",
              "      --hover-fill-color: #174EA6;\n",
              "      --disabled-fill-color: #AAA;\n",
              "      --disabled-bg-color: #DDD;\n",
              "  }\n",
              "\n",
              "  [theme=dark] .colab-df-quickchart {\n",
              "      --bg-color: #3B4455;\n",
              "      --fill-color: #D2E3FC;\n",
              "      --hover-bg-color: #434B5C;\n",
              "      --hover-fill-color: #FFFFFF;\n",
              "      --disabled-bg-color: #3B4455;\n",
              "      --disabled-fill-color: #666;\n",
              "  }\n",
              "\n",
              "  .colab-df-quickchart {\n",
              "    background-color: var(--bg-color);\n",
              "    border: none;\n",
              "    border-radius: 50%;\n",
              "    cursor: pointer;\n",
              "    display: none;\n",
              "    fill: var(--fill-color);\n",
              "    height: 32px;\n",
              "    padding: 0;\n",
              "    width: 32px;\n",
              "  }\n",
              "\n",
              "  .colab-df-quickchart:hover {\n",
              "    background-color: var(--hover-bg-color);\n",
              "    box-shadow: 0 1px 2px rgba(60, 64, 67, 0.3), 0 1px 3px 1px rgba(60, 64, 67, 0.15);\n",
              "    fill: var(--button-hover-fill-color);\n",
              "  }\n",
              "\n",
              "  .colab-df-quickchart-complete:disabled,\n",
              "  .colab-df-quickchart-complete:disabled:hover {\n",
              "    background-color: var(--disabled-bg-color);\n",
              "    fill: var(--disabled-fill-color);\n",
              "    box-shadow: none;\n",
              "  }\n",
              "\n",
              "  .colab-df-spinner {\n",
              "    border: 2px solid var(--fill-color);\n",
              "    border-color: transparent;\n",
              "    border-bottom-color: var(--fill-color);\n",
              "    animation:\n",
              "      spin 1s steps(1) infinite;\n",
              "  }\n",
              "\n",
              "  @keyframes spin {\n",
              "    0% {\n",
              "      border-color: transparent;\n",
              "      border-bottom-color: var(--fill-color);\n",
              "      border-left-color: var(--fill-color);\n",
              "    }\n",
              "    20% {\n",
              "      border-color: transparent;\n",
              "      border-left-color: var(--fill-color);\n",
              "      border-top-color: var(--fill-color);\n",
              "    }\n",
              "    30% {\n",
              "      border-color: transparent;\n",
              "      border-left-color: var(--fill-color);\n",
              "      border-top-color: var(--fill-color);\n",
              "      border-right-color: var(--fill-color);\n",
              "    }\n",
              "    40% {\n",
              "      border-color: transparent;\n",
              "      border-right-color: var(--fill-color);\n",
              "      border-top-color: var(--fill-color);\n",
              "    }\n",
              "    60% {\n",
              "      border-color: transparent;\n",
              "      border-right-color: var(--fill-color);\n",
              "    }\n",
              "    80% {\n",
              "      border-color: transparent;\n",
              "      border-right-color: var(--fill-color);\n",
              "      border-bottom-color: var(--fill-color);\n",
              "    }\n",
              "    90% {\n",
              "      border-color: transparent;\n",
              "      border-bottom-color: var(--fill-color);\n",
              "    }\n",
              "  }\n",
              "</style>\n",
              "\n",
              "  <script>\n",
              "    async function quickchart(key) {\n",
              "      const quickchartButtonEl =\n",
              "        document.querySelector('#' + key + ' button');\n",
              "      quickchartButtonEl.disabled = true;  // To prevent multiple clicks.\n",
              "      quickchartButtonEl.classList.add('colab-df-spinner');\n",
              "      try {\n",
              "        const charts = await google.colab.kernel.invokeFunction(\n",
              "            'suggestCharts', [key], {});\n",
              "      } catch (error) {\n",
              "        console.error('Error during call to suggestCharts:', error);\n",
              "      }\n",
              "      quickchartButtonEl.classList.remove('colab-df-spinner');\n",
              "      quickchartButtonEl.classList.add('colab-df-quickchart-complete');\n",
              "    }\n",
              "    (() => {\n",
              "      let quickchartButtonEl =\n",
              "        document.querySelector('#df-6be1f17d-5137-4ecd-9a94-5edcafe1e359 button');\n",
              "      quickchartButtonEl.style.display =\n",
              "        google.colab.kernel.accessAllowed ? 'block' : 'none';\n",
              "    })();\n",
              "  </script>\n",
              "</div>\n",
              "    </div>\n",
              "  </div>\n"
            ]
          },
          "metadata": {},
          "execution_count": 40
        }
      ]
    },
    {
      "cell_type": "code",
      "source": [
        "QValueWithElectrons = 4*data[\"MASS EXCESS (keV)\"][0]-data[\"MASS EXCESS (keV)\"][1] - 4*massElectrons\n",
        "print(f\"Q Value: {QValueWithElectrons} KeV or {QValueWithElectrons/1000} MeV\")"
      ],
      "metadata": {
        "colab": {
          "base_uri": "https://localhost:8080/"
        },
        "id": "4RSU3TglmUIx",
        "outputId": "9ebccf18-5a73-4d78-becf-e270b651fffd"
      },
      "execution_count": 43,
      "outputs": [
        {
          "output_type": "stream",
          "name": "stdout",
          "text": [
            "Q Value: 24686.96683 KeV or 24.686966830000003 MeV\n"
          ]
        }
      ]
    },
    {
      "cell_type": "markdown",
      "source": [
        "**If the two positrons annihilate with two electrons in the plasma (which they most likely will) then an extra of energy is produced**"
      ],
      "metadata": {
        "id": "jHDXpx15m-W5"
      }
    },
    {
      "cell_type": "code",
      "source": [
        "QValue = 4*data[\"MASS EXCESS (keV)\"][0]-data[\"MASS EXCESS (keV)\"][1]\n",
        "print(f\"Q Value: {QValue} KeV or {QValue/1000} MeV\")"
      ],
      "metadata": {
        "colab": {
          "base_uri": "https://localhost:8080/"
        },
        "id": "1gUws_41mjfR",
        "outputId": "9b5089bd-2407-4203-8175-64c37a8285a1"
      },
      "execution_count": 44,
      "outputs": [
        {
          "output_type": "stream",
          "name": "stdout",
          "text": [
            "Q Value: 26730.96683 KeV or 26.73096683 MeV\n"
          ]
        }
      ]
    },
    {
      "cell_type": "markdown",
      "source": [
        "Or we can use this simple calculation:"
      ],
      "metadata": {
        "id": "vzIvUQGtpTzl"
      }
    },
    {
      "cell_type": "code",
      "source": [
        "massProtonAMU = 1.0078  # Mass of a proton in atomic mass units (u)\n",
        "massHeliumAMU = 4.0026  # Mass of a Helium-4 nucleus in atomic mass units (u)\n",
        "amuToMeV = 931.49410242  # Conversion factor from amu to MeV"
      ],
      "metadata": {
        "id": "LVb0WC33n80O"
      },
      "execution_count": 46,
      "outputs": []
    },
    {
      "cell_type": "code",
      "source": [
        "# Q = (Mass of reactants - Mass of products) * c^2\n",
        "massOfreactants = 4*massProtonAMU # Mass of four protons\n",
        "massOfProduct = massHeliumAMU # Mass of Helium-4 nucleus\n",
        "QValueMeV = (massOfreactants-massOfProduct)*amuToMeV\n",
        "print(f\"Q-Value: {QValueMeV} MeV\")"
      ],
      "metadata": {
        "colab": {
          "base_uri": "https://localhost:8080/"
        },
        "id": "8GEv2zoRoG3E",
        "outputId": "2b252902-b2cd-420f-d233-af5a188d570a"
      },
      "execution_count": 47,
      "outputs": [
        {
          "output_type": "stream",
          "name": "stdout",
          "text": [
            "Q-Value: 26.64073132921196 MeV\n"
          ]
        }
      ]
    },
    {
      "cell_type": "code",
      "source": [
        "totalProtonMass = 4*massProtonAMU # mass of 4 protons (reactants) - helium\n",
        "massDefect = totalProtonMass-massHeliumAMU\n",
        "print(f\"Mass Defect for Helium-4: {massDefect} AMU\")"
      ],
      "metadata": {
        "colab": {
          "base_uri": "https://localhost:8080/"
        },
        "id": "Z4jMBSyenX37",
        "outputId": "507fca79-9ed6-4f2f-b3e4-b66cb1294858"
      },
      "execution_count": 52,
      "outputs": [
        {
          "output_type": "stream",
          "name": "stdout",
          "text": [
            "Mass Defect for Helium-4: 0.02859999999999996 AMU\n"
          ]
        }
      ]
    },
    {
      "cell_type": "code",
      "source": [
        "# Convert mass defect to energy (MeV)\n",
        "QValueDefect = massDefect*amuToMeV\n",
        "print(f\"Q-Value for Defect: {QValueDefect} MeV\")"
      ],
      "metadata": {
        "colab": {
          "base_uri": "https://localhost:8080/"
        },
        "id": "zaFziTJRv5mo",
        "outputId": "74f883d6-95a2-452d-e6d4-2165c7892d84"
      },
      "execution_count": 53,
      "outputs": [
        {
          "output_type": "stream",
          "name": "stdout",
          "text": [
            "Q-Value for Defect: 26.64073132921196 MeV\n"
          ]
        }
      ]
    },
    {
      "cell_type": "code",
      "source": [
        "protonEnergy = massProtonAMU*amuToMeV\n",
        "print(f\"Single Proton Energy: {protonEnergy} MeV\")"
      ],
      "metadata": {
        "colab": {
          "base_uri": "https://localhost:8080/"
        },
        "id": "598BDfmGw0fC",
        "outputId": "4561bc92-5d83-41a9-cc86-f2b985a133ef"
      },
      "execution_count": 55,
      "outputs": [
        {
          "output_type": "stream",
          "name": "stdout",
          "text": [
            "Single Proton Energy: 938.759756418876 MeV\n"
          ]
        }
      ]
    },
    {
      "cell_type": "markdown",
      "source": [
        "# Fusing Hydrogen in The Sun"
      ],
      "metadata": {
        "id": "xWGmSFfj2eyN"
      }
    },
    {
      "cell_type": "markdown",
      "source": [
        "**The Q-value is approximately 0.7% the energy of the original 4 Hydrogen atoms. We can use this fact to estimate how long the sun can shine by fusing Hydrogen only.**"
      ],
      "metadata": {
        "id": "qvvc-3oqxXcT"
      }
    },
    {
      "cell_type": "code",
      "source": [
        "totalEnergyProtons = 4*massProtonAMU*amuToMeV\n",
        "print(f\"Total Proton Energy: {totalEnergyProtons} MeV\")"
      ],
      "metadata": {
        "colab": {
          "base_uri": "https://localhost:8080/"
        },
        "id": "kSUKCakEzY--",
        "outputId": "089cf6e5-ba63-4cc6-9a11-7cad834dd56f"
      },
      "execution_count": 61,
      "outputs": [
        {
          "output_type": "stream",
          "name": "stdout",
          "text": [
            "Total Proton Energy: 3755.039025675504 MeV\n"
          ]
        }
      ]
    },
    {
      "cell_type": "code",
      "source": [
        "approxEnergyMeVFraction = (QValueMeV/totalEnergyProtons)*100\n",
        "print(f\"Approximately 0.7 times the energy of the original 4 hydrogen atoms: {approxEnergyMeVFraction} %\")"
      ],
      "metadata": {
        "colab": {
          "base_uri": "https://localhost:8080/"
        },
        "id": "JKUuj4A0wHfF",
        "outputId": "2a1d2a40-937a-4dbd-f620-e84827e6af10"
      },
      "execution_count": 63,
      "outputs": [
        {
          "output_type": "stream",
          "name": "stdout",
          "text": [
            "Approximately 0.7 times the energy of the original 4 hydrogen atoms: 0.7094661639214118 %\n"
          ]
        }
      ]
    },
    {
      "cell_type": "markdown",
      "source": [
        "- The sun was initially 100% Hydrogen\n",
        "- The sun can only convert the inner 10% to Helium\n",
        "\n",
        "This means only $0.007 \\times 0.1 \\times M_o(\\text{the mass of the sun})$ is converted to energy"
      ],
      "metadata": {
        "id": "51AG971-0r4y"
      }
    },
    {
      "cell_type": "code",
      "source": [
        "massSun = 1.989*10**30 # kg\n",
        "speedofLight = 299792458 # m/s"
      ],
      "metadata": {
        "id": "MmB5xvTU1yA0"
      },
      "execution_count": null,
      "outputs": []
    },
    {
      "cell_type": "code",
      "source": [
        "energyNuclear = 0.007*(0.1*massSun)*speedofLight**2\n",
        "print(f\"Total Energy from fusing Hydrogen in the Sun: {energyNuclear} J\")"
      ],
      "metadata": {
        "colab": {
          "base_uri": "https://localhost:8080/"
        },
        "id": "ArnaWJhdwRsE",
        "outputId": "5b0ff44e-b488-48a9-ec4a-d4d199f1c7aa"
      },
      "execution_count": 60,
      "outputs": [
        {
          "output_type": "stream",
          "name": "stdout",
          "text": [
            "Total Energy from fusing Hydrogen in the Sun: 1.2513368353552714e+44 J\n"
          ]
        }
      ]
    },
    {
      "cell_type": "code",
      "source": [
        "luminositySun = 3.828*10**26 # W (J/s)"
      ],
      "metadata": {
        "id": "a5f-4_yi1Us1"
      },
      "execution_count": 64,
      "outputs": []
    },
    {
      "cell_type": "code",
      "source": [
        "# Divide the total energy by the energy radiated per second by the Sun (the luminosity of the sun)\n",
        "timeNuclear = energyNuclear/luminositySun\n",
        "print(f\"Sun's Hydrogen fusing lifetime: {timeNuclear} sec or {timeNuclear/3600/24/365.25:.1e} years\")"
      ],
      "metadata": {
        "colab": {
          "base_uri": "https://localhost:8080/"
        },
        "id": "1T2BmZZ21xNY",
        "outputId": "0dd25444-eb3d-4644-ddc6-5245ac11b738"
      },
      "execution_count": 67,
      "outputs": [
        {
          "output_type": "stream",
          "name": "stdout",
          "text": [
            "Sun's Hydrogen fusing lifetime: 3.2689050035404166e+17 sec or 1.0e+10 years\n"
          ]
        }
      ]
    },
    {
      "cell_type": "markdown",
      "source": [
        "**Our Sun will spend approximately 10 billion years on the main sequence by our calculations**"
      ],
      "metadata": {
        "id": "YJo3e3qw2Mws"
      }
    },
    {
      "cell_type": "markdown",
      "source": [
        "# Coulomb Barrier\n",
        "* The Coulomb barrier is a concept in nuclear physics referring to the energy barrier due to electrostatic force that two positively charged nuclei (like protons) must overcome in order to get close enough to each other for nuclear fusion to occur. This barrier arises because like charges repel each other, and overcoming this repulsion requires a significant amount of energy.\n",
        "  - **Electrostatic Repulsion**: Protons, being positively charged, repel each other due to the electrostatic force, described by Coulomb's law.\n",
        "  - **Overcoming the Barrier**: To fuse, the protons must come close enough for the strong nuclear force (which is attractive at short ranges) to overcome this electrostatic repulsion.\n",
        "\n",
        "* The Coulomb barrier can be calculated using the formula derived from Coulomb's law:\n",
        "> $E = \\frac{k \\cdot q_1 \\cdot q_2}{r}$\n",
        "\n",
        "where:\n",
        "\n",
        "$E$: the energy of the Coulomb barrier\n",
        "\n",
        "$k$: Coulomb's constant ($8.9875 \\times 10^9 Nm^2 / C^2$)\n",
        "\n",
        "$q_1$ and $q_2$: the charges of the interacting particles (for protons, this is the elementary charge $e = 1.602 \\times 10^{-19} \\text{Coulombs}$)\n",
        "\n",
        "$r$: the distance at which the nuclear forces start to dominate over electrostatic forces ($1 \\text{fm} = 1 \\times 10^{-15} \\text{meters}$), where \"fm = femtometer\""
      ],
      "metadata": {
        "id": "JONEDmeX2VRs"
      }
    },
    {
      "cell_type": "code",
      "source": [
        "def CalculateCoulombBarrier(q1:int or float,q2:int or float,distance:int or float)->int or float:\n",
        "  \"\"\"\n",
        "    Calculate the Coulomb barrier for two charged particles.\n",
        "\n",
        "    q1:param q1: Charge of the first particle in Coulombs\n",
        "    q2:param q2: Charge of the second particle in Coulombs\n",
        "    distance:param r: Distance at which the fusion occurs in meters\n",
        "    :return: Coulomb barrier energy in Joules\n",
        "  \"\"\"\n",
        "  coulombConstant = 8.9875517873681764e9  # Coulomb's constant in Nm^2/C^2\n",
        "  return coulombConstant*(q1*q2/4)"
      ],
      "metadata": {
        "id": "bJsAZ3c52EVa"
      },
      "execution_count": 68,
      "outputs": []
    },
    {
      "cell_type": "code",
      "source": [
        "chargeProton = 1.602176634e-19  # Charge of a proton in Coulombs\n",
        "distanceFM = 1e-15 # Typical distance for nuclear forces in meters"
      ],
      "metadata": {
        "id": "_U2Fz34v4bp2"
      },
      "execution_count": 69,
      "outputs": []
    },
    {
      "cell_type": "code",
      "source": [
        "coulombBarrier = CalculateCoulombBarrier(chargeProton,chargeProton,distanceFM)\n",
        "print(f\"Coulomb Barrier: {coulombBarrier} J\")"
      ],
      "metadata": {
        "colab": {
          "base_uri": "https://localhost:8080/"
        },
        "id": "C8oFgaMh4lUO",
        "outputId": "f26f0eab-c48a-4849-9a6d-bdf4bcffe25d"
      },
      "execution_count": 70,
      "outputs": [
        {
          "output_type": "stream",
          "name": "stdout",
          "text": [
            "Coulomb Barrier: 5.767693877714296e-29 J\n"
          ]
        }
      ]
    },
    {
      "cell_type": "markdown",
      "source": [
        "**The first stage of fusion in a star is two protons colliding. To fuse they need to overcome their repulsion. More precisely they need to overcome the Coulomb Barrier by having a certain energy.**\n",
        "\n",
        "This potential energy barrier (Coulomb Barrier) is approximated by the electric potential energy, we can use this formula too:\n",
        "> $V_{c}(r) = 14.3996 \\times \\frac{Z_1 \\cdot Z_2 \\cdot e^2}{r}$\n",
        "\n",
        "where:\n",
        "\n",
        "$Z_1$ and $Z_2$: the atomic numbers\n",
        "\n",
        "$e$: the charge of an electron\n",
        "\n",
        "At distances greater than:\n",
        "> $r_n \\approxeq 1.44\\times10^{-15}(A_1^{\\frac{1}{3}}+A_2^{\\frac{1}{3}}) m$\n",
        "\n",
        "The potential energy at the top of the barrier is:\n",
        "> $V_b \\approxeq V_c(r_n) = Z_{1}Z_{2} / (A_1^{\\frac{1}{3}}+A_2^{\\frac{1}{3}}) MeV$"
      ],
      "metadata": {
        "id": "UZskvGiJ45mP"
      }
    },
    {
      "cell_type": "code",
      "source": [
        "distanceFM = 1.44*(1**(1/3)+1**(1/3)) # fm, ignored the 10^-15"
      ],
      "metadata": {
        "id": "DaZg3c0n4uwt"
      },
      "execution_count": 71,
      "outputs": []
    },
    {
      "cell_type": "code",
      "source": [
        "distanceRange = np.arange(0,10.01,0.01) # fm\n",
        "balanceIndexR = np.where(distanceFM==distanceRange)[0][0] # index where distance=distanceFM"
      ],
      "metadata": {
        "id": "Q-wNFY5w7dJv"
      },
      "execution_count": 75,
      "outputs": []
    },
    {
      "cell_type": "code",
      "source": [
        "vc = np.zeros(len(distanceRange))"
      ],
      "metadata": {
        "id": "LoRVAHBt7zGo"
      },
      "execution_count": 76,
      "outputs": []
    },
    {
      "cell_type": "code",
      "source": [
        "for index in range(balanceIndexR+1,len(distanceRange)):\n",
        "  # we need to convert r to Angstrom and then divide by a million to get MeV\n",
        "  # e is 1 in units of eV\n",
        "  vc[index] = 14.3996/(distanceRange[index]/100000)/1000000 # MeV"
      ],
      "metadata": {
        "id": "_0JOoLaY74aO"
      },
      "execution_count": 77,
      "outputs": []
    },
    {
      "cell_type": "code",
      "source": [
        "# set the barrier potential energy at distanceFM\n",
        "vb = 1/(1**(1/3)+1**(1/3))\n",
        "vc[balanceIndexR] = vb #MeV"
      ],
      "metadata": {
        "id": "Wg_xeXW48O0b"
      },
      "execution_count": 78,
      "outputs": []
    },
    {
      "cell_type": "code",
      "source": [
        "# set the nuclear well potential energy to the binding energy of the product (in this case deuterium)\n",
        "bindingEnergyDeuterium = -1112.283/1000 # MeV"
      ],
      "metadata": {
        "id": "bun3BIfo8dPM"
      },
      "execution_count": 79,
      "outputs": []
    },
    {
      "cell_type": "code",
      "source": [
        "for index in range(0,balanceIndexR):\n",
        "  vc[index] = bindingEnergyDeuterium"
      ],
      "metadata": {
        "id": "nzHWNtms8k7E"
      },
      "execution_count": 80,
      "outputs": []
    },
    {
      "cell_type": "code",
      "source": [
        "figure = plt.figure(figsize=(10,5))\n",
        "plt.xlabel(\"distance [fm]\")\n",
        "plt.ylabel(\"Energy [MeV]\")\n",
        "plt.plot(distanceRange,vc,c=\"red\",linewidth=2,label=\"barrier\")\n",
        "plt.legend()\n",
        "plt.tight_layout()\n",
        "plt.show()"
      ],
      "metadata": {
        "colab": {
          "base_uri": "https://localhost:8080/",
          "height": 483
        },
        "id": "XUKrBr_l8qlW",
        "outputId": "3f866973-5f70-49f7-ee33-0a15311be8fd"
      },
      "execution_count": 81,
      "outputs": [
        {
          "output_type": "display_data",
          "data": {
            "text/plain": [
              "<Figure size 1000x500 with 1 Axes>"
            ],
            "image/png": "[encoded data removed]"
          },
          "metadata": {}
        }
      ]
    },
    {
      "cell_type": "markdown",
      "source": [
        "we can try this too:"
      ],
      "metadata": {
        "id": "OYGz8CHR9iTJ"
      }
    },
    {
      "cell_type": "code",
      "source": [
        "elementaryCharge = 1.602176634e-19  # Charge of a proton (or deuterium nucleus) in Coulombs\n",
        "distanceStart = 0.1e-15  # Starting distance in meters (1 femtometer)\n",
        "distanceEnd = 10e-15  # Ending distance in meters (10 femtometers)\n",
        "points = 1000 # Number of points in the graph"
      ],
      "metadata": {
        "id": "8uVmHs2z8-fa"
      },
      "execution_count": 87,
      "outputs": []
    },
    {
      "cell_type": "code",
      "source": [
        "def CoulombPotentialEnergy(z1:int or float,z2:int or float,distance:int or float)->int or float:\n",
        "  \"Calculate the Coulomb potential energy between two charged particles\"\n",
        "  coulombConstant = 8.9875517873681764e9 # Coulomb's constant (Nm^2/C^2)\n",
        "  return coulombConstant*(z1*elementaryCharge)*(z2*elementaryCharge)/distance"
      ],
      "metadata": {
        "id": "2oCZfI3D-3HL"
      },
      "execution_count": 88,
      "outputs": []
    },
    {
      "cell_type": "code",
      "source": [
        "# Generate distances from 0.1 fm to 10 fm\n",
        "distanceRange = np.linspace(distanceStart,distanceEnd,points) # in meters"
      ],
      "metadata": {
        "id": "f-fDbBCy9yGV"
      },
      "execution_count": 89,
      "outputs": []
    },
    {
      "cell_type": "code",
      "source": [
        "zDeuteron = 1 # Charge number for deuterium"
      ],
      "metadata": {
        "id": "6Hxsatir_cUH"
      },
      "execution_count": 90,
      "outputs": []
    },
    {
      "cell_type": "code",
      "source": [
        "V_CoulombBarrier = CoulombPotentialEnergy(zDeuteron,zDeuteron,distanceRange)"
      ],
      "metadata": {
        "id": "49ypsvmf93tb"
      },
      "execution_count": 91,
      "outputs": []
    },
    {
      "cell_type": "code",
      "source": [
        "# Convert energy from Joules to MeV\n",
        "VMeV = V_CoulombBarrier/(1.60218e-13)"
      ],
      "metadata": {
        "id": "ZKKS27EH_qe4"
      },
      "execution_count": 92,
      "outputs": []
    },
    {
      "cell_type": "code",
      "source": [
        "plt.figure(figsize=(10,8))\n",
        "plt.plot(distanceRange*1e15,VMeV,label=\"Coulomb Barrier\")\n",
        "plt.xlabel(\"Distance (femtometers)\")\n",
        "plt.ylabel(\"Energy (MeV)\")\n",
        "plt.yscale(\"log\") # Logarithmic scale on the y-axis\n",
        "plt.title(\"Coulomb Barrier for Deuterium Nuclei\")\n",
        "plt.grid(True)\n",
        "plt.legend()\n",
        "plt.tight_layout()\n",
        "plt.show()"
      ],
      "metadata": {
        "colab": {
          "base_uri": "https://localhost:8080/",
          "height": 769
        },
        "id": "Iucd0H-p-C-T",
        "outputId": "86df8abb-371a-4b6d-d041-58490d7da5ab"
      },
      "execution_count": 94,
      "outputs": [
        {
          "output_type": "display_data",
          "data": {
            "text/plain": [
              "<Figure size 1000x800 with 1 Axes>"
            ],
            "image/png": "[encoded data removed]"
          },
          "metadata": {}
        }
      ]
    },
    {
      "cell_type": "code",
      "source": [],
      "metadata": {
        "id": "ybLoHJ5R-QBr"
      },
      "execution_count": null,
      "outputs": []
    }
  ]
}